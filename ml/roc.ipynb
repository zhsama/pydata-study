{
 "cells": [
  {
   "cell_type": "markdown",
   "metadata": {},
   "source": [
    "## recall & precision"
   ]
  },
  {
   "cell_type": "code",
   "execution_count": 1,
   "metadata": {
    "pycharm": {
     "is_executing": false
    }
   },
   "outputs": [],
   "source": [
    "import numpy as np\n",
    "import matplotlib.pyplot as plt\n",
    "from sklearn.datasets import load_digits"
   ]
  },
  {
   "cell_type": "code",
   "execution_count": 2,
   "metadata": {
    "pycharm": {
     "name": "#%%\n"
    }
   },
   "outputs": [
    {
     "data": {
      "text/plain": [
       "array([0, 0, 0, ..., 0, 1, 0])"
      ]
     },
     "execution_count": 2,
     "metadata": {},
     "output_type": "execute_result"
    }
   ],
   "source": [
    "digits = load_digits()\n",
    "\n",
    "X = digits.data\n",
    "y = digits.target\n",
    "y = y.copy()\n",
    "y[digits.target==9] = 1\n",
    "y[digits.target!=9] = 0\n",
    "y"
   ]
  },
  {
   "cell_type": "code",
   "execution_count": 3,
   "metadata": {},
   "outputs": [],
   "source": [
    "from sklearn.model_selection import train_test_split\n",
    "\n",
    "X_train, X_test, y_train, y_test = train_test_split(X, y)"
   ]
  },
  {
   "cell_type": "code",
   "execution_count": 4,
   "metadata": {},
   "outputs": [],
   "source": [
    "from sklearn.linear_model import LogisticRegression"
   ]
  },
  {
   "cell_type": "code",
   "execution_count": 5,
   "metadata": {
    "scrolled": true
   },
   "outputs": [
    {
     "data": {
      "text/plain": [
       "0.9644444444444444"
      ]
     },
     "execution_count": 5,
     "metadata": {},
     "output_type": "execute_result"
    }
   ],
   "source": [
    "log_reg = LogisticRegression(max_iter=1500).fit(X_train, y_train)\n",
    "y_predict = log_reg.predict(X_test)\n",
    "log_reg.score(X_test, y_test)"
   ]
  },
  {
   "cell_type": "code",
   "execution_count": 6,
   "metadata": {},
   "outputs": [],
   "source": [
    "def TN(y_true, y_predict):\n",
    "    assert len(y_true) == len(y_predict)\n",
    "    return np.sum((y_true == 0) & (y_predict == 0))\n",
    "\n",
    "def FP(y_true, y_predict):\n",
    "    assert len(y_true) == len(y_predict)\n",
    "    return np.sum((y_true == 0) & (y_predict == 1))\n",
    "\n",
    "def TP(y_true, y_predict):\n",
    "    assert len(y_true) == len(y_predict)\n",
    "    return np.sum((y_true == 1) & (y_predict == 1))\n",
    "\n",
    "def FN(y_true, y_predict):\n",
    "    assert len(y_true) == len(y_predict)\n",
    "    return np.sum((y_true == 1) & (y_predict == 0))"
   ]
  },
  {
   "cell_type": "code",
   "execution_count": 7,
   "metadata": {},
   "outputs": [
    {
     "data": {
      "text/plain": [
       "394"
      ]
     },
     "execution_count": 7,
     "metadata": {},
     "output_type": "execute_result"
    }
   ],
   "source": [
    "tn = TN(y_test, y_predict)\n",
    "tn"
   ]
  },
  {
   "cell_type": "code",
   "execution_count": 8,
   "metadata": {},
   "outputs": [
    {
     "data": {
      "text/plain": [
       "40"
      ]
     },
     "execution_count": 8,
     "metadata": {},
     "output_type": "execute_result"
    }
   ],
   "source": [
    "tp = TP(y_test, y_predict)\n",
    "tp"
   ]
  },
  {
   "cell_type": "code",
   "execution_count": 9,
   "metadata": {},
   "outputs": [
    {
     "data": {
      "text/plain": [
       "9"
      ]
     },
     "execution_count": 9,
     "metadata": {},
     "output_type": "execute_result"
    }
   ],
   "source": [
    "fp = FP(y_test, y_predict)\n",
    "fp"
   ]
  },
  {
   "cell_type": "code",
   "execution_count": 10,
   "metadata": {},
   "outputs": [
    {
     "data": {
      "text/plain": [
       "7"
      ]
     },
     "execution_count": 10,
     "metadata": {},
     "output_type": "execute_result"
    }
   ],
   "source": [
    "fn = FN(y_test, y_predict)\n",
    "fn"
   ]
  },
  {
   "cell_type": "code",
   "execution_count": 11,
   "metadata": {},
   "outputs": [],
   "source": [
    "def recall(y_true, y_predict):\n",
    "    tp = TP(y_test, y_predict)\n",
    "    tn = TN(y_test, y_predict)\n",
    "    return tp / (tp + fn)\n",
    "\n",
    "def precision(y_true, y_predict):\n",
    "    tp = TP(y_test, y_predict)\n",
    "    fp = FP(y_test, y_predict)\n",
    "    try:\n",
    "        return tp / (tp + fp)\n",
    "    except:\n",
    "        return 0.0"
   ]
  },
  {
   "cell_type": "code",
   "execution_count": 12,
   "metadata": {},
   "outputs": [],
   "source": [
    "def confusion_matrix(y_true, y_predict):\n",
    "    return np.array([\n",
    "        [TN(y_true, y_predict), FP(y_true, y_predict)],\n",
    "        [FN(y_true, y_predict), TP(y_true, y_predict)]\n",
    "    ])"
   ]
  },
  {
   "cell_type": "code",
   "execution_count": 13,
   "metadata": {},
   "outputs": [
    {
     "data": {
      "text/plain": [
       "array([[394,   9],\n",
       "       [  7,  40]])"
      ]
     },
     "execution_count": 13,
     "metadata": {},
     "output_type": "execute_result"
    }
   ],
   "source": [
    "confusion_matrix(y_test, y_predict)"
   ]
  },
  {
   "cell_type": "code",
   "execution_count": 14,
   "metadata": {},
   "outputs": [],
   "source": [
    "from sklearn.metrics import confusion_matrix\n",
    "from sklearn.metrics import recall_score\n",
    "from sklearn.metrics import precision_score"
   ]
  },
  {
   "cell_type": "code",
   "execution_count": 15,
   "metadata": {},
   "outputs": [
    {
     "data": {
      "text/plain": [
       "array([[394,   9],\n",
       "       [  7,  40]], dtype=int64)"
      ]
     },
     "execution_count": 15,
     "metadata": {},
     "output_type": "execute_result"
    }
   ],
   "source": [
    "confusion_matrix(y_test, y_predict)"
   ]
  },
  {
   "cell_type": "code",
   "execution_count": 16,
   "metadata": {},
   "outputs": [
    {
     "data": {
      "text/plain": [
       "0.851063829787234"
      ]
     },
     "execution_count": 16,
     "metadata": {},
     "output_type": "execute_result"
    }
   ],
   "source": [
    "recall_score(y_test, y_predict)"
   ]
  },
  {
   "cell_type": "code",
   "execution_count": 17,
   "metadata": {},
   "outputs": [
    {
     "data": {
      "text/plain": [
       "0.8163265306122449"
      ]
     },
     "execution_count": 17,
     "metadata": {},
     "output_type": "execute_result"
    }
   ],
   "source": [
    "precision_score(y_test, y_predict)"
   ]
  },
  {
   "cell_type": "markdown",
   "metadata": {},
   "source": [
    "## F1 Score"
   ]
  },
  {
   "cell_type": "code",
   "execution_count": 18,
   "metadata": {},
   "outputs": [],
   "source": [
    "def f1_score(precision, recall):\n",
    "    try:\n",
    "        return 2 * precision * recall / (precision + recall)\n",
    "    except:\n",
    "        return 0.0"
   ]
  },
  {
   "cell_type": "code",
   "execution_count": 19,
   "metadata": {},
   "outputs": [
    {
     "data": {
      "text/plain": [
       "0.45000000000000007"
      ]
     },
     "execution_count": 19,
     "metadata": {},
     "output_type": "execute_result"
    }
   ],
   "source": [
    "recall, precision = 0.3, 0.9\n",
    "f1_score(precision, recall)"
   ]
  },
  {
   "cell_type": "code",
   "execution_count": 20,
   "metadata": {},
   "outputs": [],
   "source": [
    "y[digits.target==9] = 1\n",
    "y[digits.target!=9] = 0"
   ]
  },
  {
   "cell_type": "code",
   "execution_count": 21,
   "metadata": {},
   "outputs": [
    {
     "data": {
      "text/plain": [
       "0.9644444444444444"
      ]
     },
     "execution_count": 21,
     "metadata": {},
     "output_type": "execute_result"
    }
   ],
   "source": [
    "logic = LogisticRegression(max_iter=1500).fit(X_train, y_train)\n",
    "logic.score(X_test, y_test)"
   ]
  },
  {
   "cell_type": "code",
   "execution_count": 22,
   "metadata": {},
   "outputs": [
    {
     "data": {
      "text/plain": [
       "array([[394,   9],\n",
       "       [  7,  40]], dtype=int64)"
      ]
     },
     "execution_count": 22,
     "metadata": {},
     "output_type": "execute_result"
    }
   ],
   "source": [
    "y_predict = logic.predict(X_test)\n",
    "confusion_matrix(y_test, y_predict)"
   ]
  },
  {
   "cell_type": "code",
   "execution_count": 23,
   "metadata": {},
   "outputs": [],
   "source": [
    "from sklearn.metrics import f1_score"
   ]
  },
  {
   "cell_type": "code",
   "execution_count": 25,
   "metadata": {},
   "outputs": [
    {
     "data": {
      "text/plain": [
       "0.8333333333333334"
      ]
     },
     "execution_count": 25,
     "metadata": {},
     "output_type": "execute_result"
    }
   ],
   "source": [
    "f1_score(y_test, y_predict)"
   ]
  },
  {
   "cell_type": "markdown",
   "metadata": {},
   "source": [
    "## 决策边界"
   ]
  },
  {
   "cell_type": "code",
   "execution_count": 27,
   "metadata": {},
   "outputs": [
    {
     "data": {
      "text/plain": [
       "array([-29.30189561, -14.34044733,  10.49541619, -28.87373652,\n",
       "       -31.36533629, -22.76555589, -23.48802744, -25.19591555,\n",
       "       -24.16088473,  -2.31325563,  20.50476594, -12.42142791,\n",
       "       -34.74945673, -20.75298394, -18.70465592, -29.67809086,\n",
       "       -39.64067481,  -5.19051211, -40.6975768 , -22.21892653,\n",
       "       -60.48585151, -13.43969387, -15.83348358, -18.04104098,\n",
       "       -19.87479807,   8.07466371, -17.381808  ,  -3.79092527,\n",
       "       -18.42090643, -47.20400688, -44.52317966, -18.46147966,\n",
       "       -38.01624073, -24.93950724,  -0.83222842, -17.76610419,\n",
       "        13.68420807, -30.86735972, -53.35728859, -27.9774358 ,\n",
       "         3.35238292, -20.0864043 , -63.58468579, -25.02683244,\n",
       "       -10.82997658, -12.14577363, -29.57031196, -19.62067475,\n",
       "       -20.70271656, -21.40560702,  13.59619194, -28.58261008,\n",
       "       -31.2447104 , -31.05558555, -46.61891696, -17.64002064,\n",
       "       -14.89144682, -12.33252896, -22.40914151, -16.04262664,\n",
       "       -14.49336914, -38.19160875, -71.25045767, -19.27430212,\n",
       "         7.97596052,  -7.76701585, -24.33398343,  12.97681879,\n",
       "       -17.44345564, -26.05281918,  13.76085693, -14.01837859,\n",
       "       -13.71542521, -32.42098976,  -7.55280777, -52.13599408,\n",
       "       -15.61188346,  -5.92181626,  -8.6617016 , -29.40271459,\n",
       "        -6.11358738, -15.34087475,  11.23568042, -31.71689124,\n",
       "       -15.1994821 , -18.34617627, -76.03419539, -25.67850809,\n",
       "       -18.5406422 ,   0.84457666, -50.56310388, -30.58692212,\n",
       "       -40.70398012,  -3.88370864, -35.95154887,  -3.74784837,\n",
       "       -33.52349494,  -3.4884634 , -42.0489159 ,  -8.91587151,\n",
       "        -5.25912327, -13.28476003, -13.66087154, -71.77183759,\n",
       "        16.09742434,   2.26420619,  -6.91204856, -28.50222983,\n",
       "       -17.25600775, -19.58364152, -63.43277781,  -4.91806811,\n",
       "       -70.06646275, -24.93882805, -13.14503001, -24.97061981,\n",
       "       -25.57528061, -49.67446984, -49.99765489, -63.7810172 ,\n",
       "        13.83538138, -43.97556371,   5.80503886, -17.16807585,\n",
       "       -44.83760479, -12.70569148, -23.86793527, -35.22436807,\n",
       "       -56.48525873, -46.64379736, -35.27209026, -13.05382633,\n",
       "        -8.31644341, -59.51130614, -15.6930056 , -16.00807531,\n",
       "       -43.6306775 , -30.03452706, -13.16232258, -20.77499613,\n",
       "       -21.13185697,  14.76516604,  11.85981951, -28.53702519,\n",
       "       -50.47490911,  11.60311011, -23.01514266, -32.02279068,\n",
       "       -24.48862686, -11.60925862,  -8.86426449, -28.10752675,\n",
       "         2.92074687, -27.64355087, -12.91164956, -26.58372971,\n",
       "       -12.92568215, -13.16884502, -16.16439595, -24.69142314,\n",
       "       -34.02087924, -28.09494022, -32.19656926,  20.70146576,\n",
       "       -29.9958639 , -28.64445475,  -9.47470803, -29.78650231,\n",
       "        -1.43015906, -10.5624737 , -25.45826471, -35.43630027,\n",
       "        17.7416364 , -30.58431535, -27.93831074, -50.35611984,\n",
       "       -33.40034605, -12.40662503, -77.04266937, -68.24750152,\n",
       "        -5.34138175, -26.06954186, -19.77180389,  18.24931622,\n",
       "       -12.91389246, -24.47328097, -16.26565747, -12.91076729,\n",
       "       -40.62866862, -23.78553278, -10.4071581 ,  -8.59298134,\n",
       "       -17.77973881, -19.97615725, -51.74417566,  -9.96881108,\n",
       "       -10.3780897 , -25.88052066, -42.49684982, -20.52796118,\n",
       "        -4.00647542, -13.71720044, -17.68068806, -59.04798893,\n",
       "       -32.42525588, -31.5853474 ,  -9.01862238, -57.5052015 ,\n",
       "       -31.56358562,  -8.0045611 , -21.51250126,   2.7536567 ,\n",
       "        12.00415419, -30.39136103, -18.10673373, -28.82338898,\n",
       "       -31.51038496,   8.40988016, -20.04072578, -24.5644331 ,\n",
       "       -24.52516863, -17.4284096 , -14.06286555,   7.37601282,\n",
       "       -12.74889941, -13.39331442, -65.64175815,  19.35488748,\n",
       "       -18.64965771, -49.81031329, -16.78609337, -12.08820708,\n",
       "       -45.83768967,  -8.59888559, -15.62330867, -41.57111864,\n",
       "       -19.59472777, -13.67426284, -14.22836025, -28.60968601,\n",
       "       -43.82347035, -15.68996087, -16.31217739,  17.66318089,\n",
       "       -34.87464135, -19.08881536,  -6.77263915,   1.90447371,\n",
       "        -7.06900926,  -7.70314189, -30.46386287, -41.64509339,\n",
       "       -14.93519453, -16.30969529, -45.74372982, -28.28407223,\n",
       "        -9.46116644, -26.06969984,  19.57826694, -22.20487947,\n",
       "       -35.22041466, -41.48573974, -26.60872823, -12.38548677,\n",
       "        -2.47239838, -22.93255738,  -2.02185061, -34.13657006,\n",
       "       -27.49741328, -16.32684187,   1.4720657 , -45.93220776,\n",
       "       -24.76785426, -23.62273986,   0.44851579, -22.74073191,\n",
       "       -34.16130144, -18.59671606,  -0.32911195,  -1.08084285,\n",
       "       -12.34574023, -14.91585838, -21.42132017, -49.08263065,\n",
       "       -18.78906619, -23.53619091, -10.68414537,   1.74066232,\n",
       "       -25.06445458, -29.19688441, -25.26513362, -46.1291636 ,\n",
       "       -33.17379381,  -5.03762833,  -1.48003544, -40.12729929,\n",
       "       -33.01027339, -41.28921936, -23.30673593, -25.96253904,\n",
       "       -13.19524767,  -5.45472228, -37.79529452, -33.79589466,\n",
       "       -11.87722089, -12.61897162, -34.52357971, -70.94405102,\n",
       "       -26.7120099 , -20.61023219, -25.92589436,   0.92780643,\n",
       "        -8.41073919, -19.93979045,   4.59168975, -48.32856363,\n",
       "       -18.49655962,  14.59593011,  -7.04527038, -29.78264332,\n",
       "       -54.61489322, -16.63007676, -12.53576503, -19.18284146,\n",
       "       -34.3372961 , -58.99340581,   3.72783311,  -0.98957653,\n",
       "        -1.15969997, -21.22780198,  -0.82863325, -15.10975439,\n",
       "       -50.90489823,  -0.17730863, -39.56890651, -26.52782901,\n",
       "       -47.88735821, -31.2219276 , -17.21653728, -57.64458183,\n",
       "       -26.18405514, -20.7909304 , -10.00538858, -17.29837797,\n",
       "        -4.38173879, -60.36510831, -38.86071876, -28.30120548,\n",
       "       -46.76388736, -14.25992053, -16.75489736,  18.65952514,\n",
       "       -26.80696573, -36.39060952, -30.54479123, -41.51945797,\n",
       "       -48.86073972,  -5.86722198, -38.96059354, -29.42142667,\n",
       "        19.85820677, -53.45833616, -11.30408004, -54.14537177,\n",
       "        -4.96091832, -18.79309368, -28.8329226 , -15.75626538,\n",
       "       -46.83488493,   3.0106381 ,  24.96265147, -18.33467527,\n",
       "        -2.70816518, -13.57507078, -58.44411499, -38.7128724 ,\n",
       "       -16.23093001,  19.47121211, -15.93942765, -27.50656876,\n",
       "       -42.37243231, -27.13856238, -24.8692522 , -14.08925622,\n",
       "       -10.19737412, -36.11581093,   8.49530935, -15.06827598,\n",
       "       -25.73455718,   2.44328956,  -9.68303787, -14.46759325,\n",
       "       -66.7004753 , -35.27222163,  -7.88276441, -12.49728119,\n",
       "       -15.40745131, -19.85652726, -28.2356386 , -18.70968966,\n",
       "       -16.59384589, -35.63832259, -50.61893313, -27.56280666,\n",
       "       -57.69219184,   9.9800405 , -33.25745984, -12.03991024,\n",
       "       -15.60995956, -21.08551093, -18.10928598, -15.18942311,\n",
       "       -34.57504195, -51.85896808,  15.165006  , -25.02965483,\n",
       "       -36.72561507, -31.6214113 ,  10.24443136, -20.41115373,\n",
       "       -45.54745184,  -9.90354111, -63.09670462, -43.02054818,\n",
       "       -13.73828485,   0.08974008, -30.15023044, -15.50048239,\n",
       "        -5.88864021, -60.54751178, -11.79529023, -77.8377662 ,\n",
       "       -19.05144796,  -4.92769548, -15.4073505 ,  -6.81567277,\n",
       "        -3.35434992, -25.7571272 , -56.18444005, -20.69809339,\n",
       "       -16.89204164, -26.55542056, -28.10279526,  27.4306516 ,\n",
       "       -31.15662378, -32.63737581, -25.9124091 , -15.05083923,\n",
       "       -14.5586019 , -15.24304296])"
      ]
     },
     "execution_count": 27,
     "metadata": {},
     "output_type": "execute_result"
    }
   ],
   "source": [
    "logic.decision_function(X_test)"
   ]
  },
  {
   "cell_type": "code",
   "execution_count": 29,
   "metadata": {},
   "outputs": [
    {
     "data": {
      "text/plain": [
       "-77.83776619853978"
      ]
     },
     "execution_count": 29,
     "metadata": {},
     "output_type": "execute_result"
    }
   ],
   "source": [
    "np.min(logic.decision_function(X_test))"
   ]
  },
  {
   "cell_type": "code",
   "execution_count": 30,
   "metadata": {},
   "outputs": [
    {
     "data": {
      "text/plain": [
       "27.430651603446254"
      ]
     },
     "execution_count": 30,
     "metadata": {},
     "output_type": "execute_result"
    }
   ],
   "source": [
    "np.max(logic.decision_function(X_test))"
   ]
  },
  {
   "cell_type": "code",
   "execution_count": 33,
   "metadata": {},
   "outputs": [],
   "source": [
    "y_predict2 = np.array(logic.decision_function(X_test) >= 5, dtype='int')"
   ]
  },
  {
   "cell_type": "code",
   "execution_count": 34,
   "metadata": {},
   "outputs": [
    {
     "data": {
      "text/plain": [
       "array([[401,   2],\n",
       "       [ 15,  32]], dtype=int64)"
      ]
     },
     "execution_count": 34,
     "metadata": {},
     "output_type": "execute_result"
    }
   ],
   "source": [
    "confusion_matrix(y_test, y_predict2)"
   ]
  },
  {
   "cell_type": "code",
   "execution_count": 35,
   "metadata": {},
   "outputs": [
    {
     "data": {
      "text/plain": [
       "0.9411764705882353"
      ]
     },
     "execution_count": 35,
     "metadata": {},
     "output_type": "execute_result"
    }
   ],
   "source": [
    "precision_score(y_test, y_predict2)"
   ]
  },
  {
   "cell_type": "code",
   "execution_count": 37,
   "metadata": {},
   "outputs": [
    {
     "data": {
      "text/plain": [
       "0.6808510638297872"
      ]
     },
     "execution_count": 37,
     "metadata": {},
     "output_type": "execute_result"
    }
   ],
   "source": [
    "recall_score(y_test, y_predict2)"
   ]
  },
  {
   "cell_type": "code",
   "execution_count": 38,
   "metadata": {},
   "outputs": [
    {
     "data": {
      "text/plain": [
       "0.7901234567901235"
      ]
     },
     "execution_count": 38,
     "metadata": {},
     "output_type": "execute_result"
    }
   ],
   "source": [
    "f1_score(y_test, y_predict2)"
   ]
  },
  {
   "cell_type": "code",
   "execution_count": 39,
   "metadata": {},
   "outputs": [],
   "source": [
    "y_predict3 = np.array(logic.decision_function(X_test) >= -5, dtype='int')"
   ]
  },
  {
   "cell_type": "code",
   "execution_count": 40,
   "metadata": {},
   "outputs": [
    {
     "data": {
      "text/plain": [
       "array([[377,  26],\n",
       "       [  1,  46]], dtype=int64)"
      ]
     },
     "execution_count": 40,
     "metadata": {},
     "output_type": "execute_result"
    }
   ],
   "source": [
    "confusion_matrix(y_test, y_predict3)"
   ]
  },
  {
   "cell_type": "code",
   "execution_count": 41,
   "metadata": {},
   "outputs": [
    {
     "data": {
      "text/plain": [
       "0.6388888888888888"
      ]
     },
     "execution_count": 41,
     "metadata": {},
     "output_type": "execute_result"
    }
   ],
   "source": [
    "precision_score(y_test, y_predict3)"
   ]
  },
  {
   "cell_type": "code",
   "execution_count": 42,
   "metadata": {},
   "outputs": [
    {
     "data": {
      "text/plain": [
       "0.9787234042553191"
      ]
     },
     "execution_count": 42,
     "metadata": {},
     "output_type": "execute_result"
    }
   ],
   "source": [
    "recall_score(y_test, y_predict3)"
   ]
  },
  {
   "cell_type": "code",
   "execution_count": 43,
   "metadata": {},
   "outputs": [
    {
     "data": {
      "text/plain": [
       "0.773109243697479"
      ]
     },
     "execution_count": 43,
     "metadata": {},
     "output_type": "execute_result"
    }
   ],
   "source": [
    "f1_score(y_test, y_predict3)"
   ]
  },
  {
   "cell_type": "markdown",
   "metadata": {},
   "source": [
    "## Precision-Recall 曲线"
   ]
  },
  {
   "cell_type": "code",
   "execution_count": 44,
   "metadata": {},
   "outputs": [],
   "source": [
    "from sklearn.metrics import precision_recall_curve"
   ]
  },
  {
   "cell_type": "code",
   "execution_count": 46,
   "metadata": {},
   "outputs": [],
   "source": [
    "precisions, recalls, thresholds = precision_recall_curve(y_test, logic.decision_function(X_test))"
   ]
  },
  {
   "cell_type": "code",
   "execution_count": 47,
   "metadata": {},
   "outputs": [
    {
     "data": {
      "text/plain": [
       "[<matplotlib.lines.Line2D at 0x1862bb5c438>]"
      ]
     },
     "execution_count": 47,
     "metadata": {},
     "output_type": "execute_result"
    },
    {
     "data": {
      "image/png": "[encoded data removed]",
      "text/plain": [
       "<Figure size 432x288 with 1 Axes>"
      ]
     },
     "metadata": {
      "needs_background": "light"
     },
     "output_type": "display_data"
    }
   ],
   "source": [
    "plt.plot(thresholds, precisions[:-1])\n",
    "plt.plot(thresholds, recalls[:-1])"
   ]
  },
  {
   "cell_type": "markdown",
   "metadata": {},
   "source": [
    "## ROC & AUC"
   ]
  },
  {
   "cell_type": "markdown",
   "metadata": {},
   "source": [
    "### TPR & FPR"
   ]
  },
  {
   "cell_type": "code",
   "execution_count": 57,
   "metadata": {},
   "outputs": [],
   "source": [
    "from sklearn.metrics import roc_curve"
   ]
  },
  {
   "cell_type": "code",
   "execution_count": 58,
   "metadata": {},
   "outputs": [],
   "source": [
    "from sklearn.metrics import roc_auc_score"
   ]
  },
  {
   "cell_type": "code",
   "execution_count": 59,
   "metadata": {},
   "outputs": [],
   "source": [
    "fprs, tprs, thresholds = roc_curve(y_test, logic.decision_function(X_test))"
   ]
  },
  {
   "cell_type": "code",
   "execution_count": 65,
   "metadata": {},
   "outputs": [
    {
     "data": {
      "text/plain": [
       "0.9867483237421466"
      ]
     },
     "execution_count": 65,
     "metadata": {},
     "output_type": "execute_result"
    }
   ],
   "source": [
    "roc_auc = roc_auc_score(y_test, logic.decision_function(X_test))\n",
    "roc_auc"
   ]
  },
  {
   "cell_type": "code",
   "execution_count": 70,
   "metadata": {},
   "outputs": [
    {
     "data": {
      "image/png": "[encoded data removed]",
      "text/plain": [
       "<Figure size 432x288 with 1 Axes>"
      ]
     },
     "metadata": {
      "needs_background": "light"
     },
     "output_type": "display_data"
    }
   ],
   "source": [
    "plt.plot(fprs, tprs, label='AUC = %0.2f'% roc_auc)\n",
    "plt.plot([0,1],[0,1],'--')\n",
    "plt.legend(loc='lower right')\n",
    "plt.show()"
   ]
  },
  {
   "cell_type": "markdown",
   "metadata": {},
   "source": [
    "## 多分类问题的Metrics"
   ]
  },
  {
   "cell_type": "code",
   "execution_count": 71,
   "metadata": {},
   "outputs": [],
   "source": [
    "digits = load_digits()\n",
    "\n",
    "X = digits.data\n",
    "y = digits.target\n",
    "\n",
    "X_train, X_test, y_train, y_test = train_test_split(X, y)"
   ]
  },
  {
   "cell_type": "code",
   "execution_count": 74,
   "metadata": {},
   "outputs": [
    {
     "data": {
      "text/plain": [
       "0.9511111111111111"
      ]
     },
     "execution_count": 74,
     "metadata": {},
     "output_type": "execute_result"
    }
   ],
   "source": [
    "log_reg = LogisticRegression(max_iter=10000).fit(X_train, y_train)\n",
    "y_predict = log_reg.predict(X_test)\n",
    "log_reg.score(X_test, y_test)"
   ]
  },
  {
   "cell_type": "code",
   "execution_count": 75,
   "metadata": {},
   "outputs": [],
   "source": [
    "y_predict = log_reg.predict(X_test)"
   ]
  },
  {
   "cell_type": "code",
   "execution_count": 79,
   "metadata": {},
   "outputs": [
    {
     "data": {
      "text/plain": [
       "array([[46,  0,  0,  0,  0,  0,  0,  0,  0,  0],\n",
       "       [ 0, 50,  0,  0,  0,  0,  0,  0,  0,  0],\n",
       "       [ 0,  0, 40,  0,  0,  0,  0,  0,  0,  0],\n",
       "       [ 0,  0,  0, 45,  0,  0,  0,  0,  0,  1],\n",
       "       [ 0,  0,  0,  0, 46,  0,  0,  1,  0,  0],\n",
       "       [ 0,  0,  0,  1,  0, 46,  0,  0,  0,  3],\n",
       "       [ 0,  0,  0,  0,  0,  1, 34,  0,  1,  0],\n",
       "       [ 0,  1,  0,  0,  1,  0,  0, 43,  0,  1],\n",
       "       [ 1,  4,  1,  0,  0,  1,  0,  0, 35,  1],\n",
       "       [ 0,  0,  0,  2,  0,  0,  0,  0,  1, 43]], dtype=int64)"
      ]
     },
     "execution_count": 79,
     "metadata": {},
     "output_type": "execute_result"
    }
   ],
   "source": [
    "matrix = confusion_matrix(y_test, y_predict)"
   ]
  },
  {
   "cell_type": "code",
   "execution_count": null,
   "metadata": {},
   "outputs": [],
   "source": [
    "plt.matshow()"
   ]
  }
 ],
 "metadata": {
  "kernelspec": {
   "display_name": "Python 3",
   "language": "python",
   "name": "python3"
  },
  "language_info": {
   "codemirror_mode": {
    "name": "ipython",
    "version": 3
   },
   "file_extension": ".py",
   "mimetype": "text/x-python",
   "name": "python",
   "nbconvert_exporter": "python",
   "pygments_lexer": "ipython3",
   "version": "3.6.10"
  },
  "pycharm": {
   "stem_cell": {
    "cell_type": "raw",
    "metadata": {
     "collapsed": false
    },
    "source": []
   }
  }
 },
 "nbformat": 4,
 "nbformat_minor": 1
}
