{
 "cells": [
  {
   "cell_type": "code",
   "execution_count": 5,
   "metadata": {
    "code_folding": []
   },
   "outputs": [
    {
     "name": "stdout",
     "output_type": "stream",
     "text": [
      "o\n",
      "o\n",
      "5\n",
      "o\n"
     ]
    }
   ],
   "source": [
    "# 字符串\n",
    "my_str = 'hello'\n",
    "# h e l l o\n",
    "# 0 1 2  3   4\n",
    "# -4 -3  -2 -1\n",
    "# 获取值(根据索引)\n",
    "# print(my_str[0])\n",
    "\n",
    "# 去最后的值\n",
    "print(my_str[4])\n",
    "print(my_str[-1])\n",
    "print(len(my_str)) # 获取字符串的长度\n",
    "print(my_str[len(my_str)-1]) # 长度永远比最后一个索引大一"
   ]
  },
  {
   "cell_type": "code",
   "execution_count": 10,
   "metadata": {
    "code_folding": []
   },
   "outputs": [
    {
     "name": "stdout",
     "output_type": "stream",
     "text": [
      "ello\n",
      "ello\n",
      "hel\n",
      "hel\n"
     ]
    }
   ],
   "source": [
    "# 字符串的切片\n",
    "# 根据下标的范围获取一部分值\n",
    "my_str = 'hello'\n",
    "\n",
    "# 使用格式\n",
    "# 数据[起始下标:结束下标:步长] # 步长默认为1, 结束下标不包含 [)\n",
    "\n",
    "print(my_str[1:5])\n",
    "print(my_str[1:]) # 从某个位置截取到最后\n",
    "print(my_str[0:3])\n",
    "print(my_str[:3]) # 从头开始截取到某个位置"
   ]
  },
  {
   "cell_type": "code",
   "execution_count": 21,
   "metadata": {
    "code_folding": [
     0
    ]
   },
   "outputs": [
    {
     "name": "stdout",
     "output_type": "stream",
     "text": [
      "True\n",
      "True\n",
      "True\n"
     ]
    }
   ],
   "source": [
    "# 字符串常见的内置函数\n",
    "my_str = 'hello world'\n",
    "\n",
    "# print(my_str.capitalize(),my_str.title())\n",
    "\n",
    "# print(my_str.upper())\n",
    "# print(my_str.lower())\n",
    "\n",
    "# my_str = 'http://www.baidu.com'\n",
    "\n",
    "# print(my_str.startswith('http'))\n",
    "# my_str.endswith()\n",
    "\n",
    "# print(my_str.count('l'))\n",
    "\n",
    "# 判断字符串是不是全是数字\n",
    "# print('123'.isdigit())\n",
    "# print('abc'.isalpha())\n",
    "\n",
    "# print('abc1'.isalnum())\n"
   ]
  },
  {
   "cell_type": "code",
   "execution_count": 23,
   "metadata": {},
   "outputs": [
    {
     "name": "stdout",
     "output_type": "stream",
     "text": [
      "0 h\n",
      "1 e\n",
      "2 l\n",
      "3 l\n",
      "4 o\n"
     ]
    }
   ],
   "source": [
    "# 遍历\n",
    "my_str = 'hello'\n",
    "# for value in my_str:\n",
    "#     print(value)\n",
    "\n",
    "for index,value in enumerate(my_str):\n",
    "    print(index,value)"
   ]
  },
  {
   "cell_type": "code",
   "execution_count": 31,
   "metadata": {},
   "outputs": [
    {
     "name": "stdout",
     "output_type": "stream",
     "text": [
      "[1, 1.2]\n",
      "<class 'list'>\n",
      "<class 'list'>\n"
     ]
    }
   ],
   "source": [
    "# 列表\n",
    "my_list = [1, 1.2,'ab',True]\n",
    "\n",
    "# print(my_list)\n",
    "\n",
    "# 根据索引获取值\n",
    "# print(my_list[3])\n",
    "# print(len(my_list))\n",
    "# print(my_list[-1])\n",
    "\n",
    "# 切片\n",
    "# print(my_list[0:2])\n",
    "# print(type(my_list[0:2]))\n",
    "# print(type(my_list))\n"
   ]
  },
  {
   "cell_type": "code",
   "execution_count": 50,
   "metadata": {
    "code_folding": []
   },
   "outputs": [
    {
     "name": "stdout",
     "output_type": "stream",
     "text": [
      "[1, 2, 3, [1, 2]]\n"
     ]
    }
   ],
   "source": [
    "# 列表的增删改查\\\n",
    "# 空列表\n",
    "# my_list = list()\n",
    "# my_list = [1,2]\n",
    "# print(my_list)\n",
    "\n",
    "# 追加\n",
    "# my_list.append(1)  # [1]\n",
    "# my_list.append(2)  # [1,2]\n",
    "\n",
    "# 插入\n",
    "# my_list.insert(0,'a')\n",
    "\n",
    "# 将列表的元素合并\n",
    "my_list = [1,2,3]\n",
    "# my_list1 = ['a','b']\n",
    "# my_list.extend(my_list1)\n",
    "# print(my_list)\n",
    "\n",
    "# 修改\n",
    "# my_list[0] = 'a'\n",
    "# print(my_list)\n",
    "\n",
    "# 删除指定的数据\n",
    "# my_list.remove(1) # 指定的数据\n",
    "# print(my_list)\n",
    "\n",
    "# del my_list[0]\n",
    "# print(my_list)\n",
    "\n",
    "# 清空列表\n",
    "# my_list.clear()\n",
    "# print(my_list)\n",
    "\n",
    "# in    not in\n",
    "# print(4 in my_list)\n",
    "\n",
    "# print(my_list.count(1))\n",
    "\n",
    "# 通过值找索引\n",
    "# print(my_list.index(1))\n",
    "\n",
    "# 遍历\n",
    "# mylist = [1,2,3,4]\n",
    "\n",
    "# for value in mylist:\n",
    "#     print(value)\n",
    "\n",
    "# for index,value in enumerate(mylist):\n",
    "#     print(index,value)\n",
    "\n",
    "# my_list = [1,2,3]\n",
    "# my_list1 = [1,2]\n",
    "# my_list.extend(my_list1)\n",
    "# my_list.append(my_list1)\n",
    "# print(my_list)"
   ]
  },
  {
   "cell_type": "code",
   "execution_count": 63,
   "metadata": {},
   "outputs": [
    {
     "name": "stdout",
     "output_type": "stream",
     "text": [
      "<class 'tuple'>\n"
     ]
    }
   ],
   "source": [
    "# 元组\n",
    "# 不能修改，其他的和列表相同\n",
    "# my_tuple = (1,2,'abc',True)\n",
    "# print(my_tuple)\n",
    "# print(type(my_tuple))\n",
    "\n",
    "# 获取\n",
    "# print(my_tuple[2])\n",
    "\n",
    "# my_tuple[2]='c'   错误的\n",
    "# del my_tuple[2]\n",
    "\n",
    "# my_tuple = (1,2,[3,4])\n",
    "# print(my_tuple[2])\n",
    "# # print(my_tuple[2][0]) \n",
    "# my_tuple[2][0] = 5\n",
    "# print(my_tuple)\n",
    "\n",
    "# 遍历\n",
    "# tuple1 = ('a','b','c')\n",
    "# for value in tuple1:\n",
    "#     print(value)\n",
    "# for index,value in enumerate(tuple1):\n",
    "#     print(index,value)\n",
    "\n",
    "# 注意点： 只有一个元素，需要加上逗号\n",
    "tupe = (1,)\n",
    "print(type(tupe))"
   ]
  },
  {
   "cell_type": "code",
   "execution_count": 88,
   "metadata": {},
   "outputs": [
    {
     "name": "stdout",
     "output_type": "stream",
     "text": [
      "name zl\n",
      "age 18\n",
      "height 20\n"
     ]
    }
   ],
   "source": [
    "# 字典  -> 键值对 key : value \n",
    "# [name,age,height,name,age]\n",
    "# {'key1':'value1','key2':'value2',......}\n",
    "# key 必须的是唯一的,要用不可变类型数据作为key，字符串，数字，元组\n",
    "# my_dict = {'name':'zl','age':18,'height':20}\n",
    "\n",
    "# key获取value\n",
    "# print(my_dict['name'])\n",
    "# print(my_dict.get('nam'))\n",
    "\n",
    "# 空的字典\n",
    "# my_dict=dict()\n",
    "my_dict={}\n",
    "\n",
    "# 添加\n",
    "my_dict['name'] = 'ls'\n",
    "my_dict['age'] = '18'\n",
    "# print(my_dict)\n",
    "\n",
    "# 修改\n",
    "my_dict['age'] = '19'\n",
    "# print(my_dict)\n",
    "\n",
    "# 删除\n",
    "# my_dict.pop('age')\n",
    "# del my_dict['age']\n",
    "\n",
    "# 清除\n",
    "# my_dict.clear()\n",
    "\n",
    "# print('age' in my_dict) # 对比key\n",
    "# # my_dict['age'] = '20'\n",
    "\n",
    "# print('ls' in my_dict.values())\n",
    "\n",
    "# # 获取字典所有的值\n",
    "# print(my_dict.values())\n",
    "\n",
    "# # 获取字典所有的key\n",
    "# print(my_dict.keys())\n",
    "# print(my_dict)\n",
    "\n",
    "my_dict = {'name':'zl','age':18,'height':20}\n",
    "\n",
    "# 默认直接遍历获取到的的是key\n",
    "# for key in my_dict:\n",
    "    \n",
    "#     print(key)\n",
    "#     print(my_dict[key])\n",
    "\n",
    "for key,value in my_dict.items():\n",
    "    print(key,value)\n"
   ]
  },
  {
   "cell_type": "code",
   "execution_count": 89,
   "metadata": {},
   "outputs": [
    {
     "name": "stdout",
     "output_type": "stream",
     "text": [
      "[1, 1, 2]\n"
     ]
    }
   ],
   "source": [
    "list1 = [1,1,2]\n",
    "print(list1)"
   ]
  },
  {
   "cell_type": "code",
   "execution_count": 91,
   "metadata": {},
   "outputs": [
    {
     "name": "stdout",
     "output_type": "stream",
     "text": [
      "<class 'set'>\n",
      "<class 'set'>\n"
     ]
    }
   ],
   "source": [
    "my_set = {1, 4, 'abc', 'hello'}\n",
    "print(type(my_set))\n",
    "my_set = set()\n",
    "print(type(my_set))"
   ]
  },
  {
   "cell_type": "code",
   "execution_count": 92,
   "metadata": {},
   "outputs": [
    {
     "name": "stdout",
     "output_type": "stream",
     "text": [
      "1\n",
      "5\n",
      "7\n",
      "0 1\n",
      "1 5\n",
      "2 7\n"
     ]
    }
   ],
   "source": [
    "my_set = {1, 5, 7}\n",
    "for value in my_set:\n",
    "    print(value)\n",
    "\n",
    "for index,value in enumerate(my_set):\n",
    "    print(index,value)"
   ]
  },
  {
   "cell_type": "code",
   "execution_count": 94,
   "metadata": {},
   "outputs": [
    {
     "name": "stdout",
     "output_type": "stream",
     "text": [
      "{1, 3, 5}\n",
      "[1, 3, 5]\n"
     ]
    }
   ],
   "source": [
    "# 集合可以对容器类型数据去重\n",
    "my_list = [1, 1, 3, 5, 3]\n",
    "# 把列表转成集合，会把数据去重\n",
    "my_set = set(my_list)\n",
    "\n",
    "print(my_set)\n",
    "list2 = list(my_set)\n",
    "print(list2)"
   ]
  },
  {
   "cell_type": "code",
   "execution_count": null,
   "metadata": {},
   "outputs": [],
   "source": []
  }
 ],
 "metadata": {
  "kernelspec": {
   "display_name": "py37",
   "language": "python",
   "name": "py37"
  },
  "language_info": {
   "codemirror_mode": {
    "name": "ipython",
    "version": 3
   },
   "file_extension": ".py",
   "mimetype": "text/x-python",
   "name": "python",
   "nbconvert_exporter": "python",
   "pygments_lexer": "ipython3",
   "version": "3.7.3"
  }
 },
 "nbformat": 4,
 "nbformat_minor": 2
}
