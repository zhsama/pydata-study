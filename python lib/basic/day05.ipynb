{
 "cells": [
  {
   "cell_type": "code",
   "execution_count": 8,
   "metadata": {
    "code_folding": [
     0
    ]
   },
   "outputs": [
    {
     "name": "stdout",
     "output_type": "stream",
     "text": [
      "4\n"
     ]
    }
   ],
   "source": [
    "# 匿名函数\n",
    "# def func(a,b,c):\n",
    "#     return a+b+c\n",
    "# print(func(1,2,3))\n",
    "\n",
    "# 匿名函数的创建和调用\n",
    "# result = (lambda a,b,c: a+b+c)(1,2,3)\n",
    "# print(result)\n",
    "\n",
    "# 判断是否为偶数\n",
    "# def is_os(num):\n",
    "#     if num % 2 == 0:\n",
    "#         return True\n",
    "#     else:\n",
    "#         return False\n",
    "\n",
    "# f =lambda num: True if num %2 == 0 else False \n",
    "# re = f(2)\n",
    "# print(re)\n",
    "\n",
    "# my_list = [1,2,6,3,7]\n",
    "# my_list.sort(reverse=False)\n",
    "# print(my_list)\n",
    "\n",
    "my_list = [{'name':'zs','age':20},{'name':'ls','age':19}]\n",
    "# item : 表示列表中的每一个元素\n",
    "# my_list.sort(key=lambda item:item['age'], reverse=False)\n",
    "# print(my_list)\n",
    "\n",
    "# def get_value(item):\n",
    "#     return item[\"age\"]\n",
    "\n",
    "# my_list.sort(key=get_value, reverse=True)\n",
    "# print(my_list)\n",
    "\n",
    "f = [lambda x=1:x*2,lambda x:x**2]\n",
    "print(f[1](f[0](1)))\n",
    "\n"
   ]
  },
  {
   "cell_type": "code",
   "execution_count": 12,
   "metadata": {
    "code_folding": [
     0,
     6
    ]
   },
   "outputs": [
    {
     "name": "stdout",
     "output_type": "stream",
     "text": [
      "中国\n",
      "老师\n",
      "(<class 'object'>,)\n",
      "中国\n",
      "老师\n"
     ]
    }
   ],
   "source": [
    "# 面向对象中的类和对象\n",
    "# 类： 一类事物 ，只是一个概念  Dog\n",
    "# 对象：具体到某一个东西       张三家的狗  \n",
    "# 对象可以有属性和方法\n",
    "\n",
    "# 类的定义\n",
    "class Teacher(object):\n",
    "    # 定义一个类属性\n",
    "    country = '中国'\n",
    "    \n",
    "    # 方法\n",
    "    def show(self):\n",
    "        print('老师')\n",
    "    \n",
    "# 创建对象\n",
    "teacher = Teacher()\n",
    "print(teacher.country)\n",
    "teacher.show()\n",
    "\n",
    "# 查看Teacher类继承的父类\n",
    "print(Teacher.__bases__)\n",
    "\n",
    "# 创建对象\n",
    "teacher2 = Teacher()\n",
    "print(teacher2.country)\n",
    "teacher2.show()"
   ]
  },
  {
   "cell_type": "code",
   "execution_count": 19,
   "metadata": {
    "code_folding": [
     0
    ]
   },
   "outputs": [
    {
     "name": "stdout",
     "output_type": "stream",
     "text": [
      "4379138648\n",
      "c1在吃\n",
      "4379138928\n",
      "c2在吃\n",
      "4379138928\n"
     ]
    }
   ],
   "source": [
    "# 对象中的属性和方法\n",
    "class Teacher(object):\n",
    "    # 方法\n",
    "    def show(self):\n",
    "        print('老师')\n",
    "\n",
    "teacher = Teacher()\n",
    "# 添加属性\n",
    "teacher.name = 'zs'\n",
    "teacher.age = 20\n",
    "\n",
    "# 获取\n",
    "# print(teacher.name,teacher.age)\n",
    "\n",
    "# 修改属性值\n",
    "teacher.name = 'ls'\n",
    "# print(teacher.name,teacher.age)\n",
    "\n",
    "\n",
    "# self是什么\n",
    "class Cat(object):\n",
    "    \n",
    "    # 方法\n",
    "    def eat(self):\n",
    "        print(id(self))\n",
    "        print('%s在吃'%self.name)\n",
    "\n",
    "c1 = Cat()\n",
    "c1.name = 'c1'\n",
    "c1.eat()\n",
    "\n",
    "c2 = Cat()\n",
    "c2.name = 'c2'\n",
    "c2.eat()\n",
    "print(id(c2))\n",
    "\n"
   ]
  },
  {
   "cell_type": "code",
   "execution_count": 23,
   "metadata": {
    "code_folding": [
     0,
     5
    ]
   },
   "outputs": [
    {
     "name": "stdout",
     "output_type": "stream",
     "text": [
      "zs 20\n",
      "老师\n",
      "ls 19\n"
     ]
    }
   ],
   "source": [
    "# __init__() 初始化\n",
    "\n",
    "class Teacher(object):\n",
    "    \n",
    "    # 对象创建的时候的初始化方法\n",
    "    def __init__(self,name,age):\n",
    "        \n",
    "        # 默认属性\n",
    "        self.name = name\n",
    "        self.age = age\n",
    "\n",
    "    # 方法\n",
    "    def show(self):\n",
    "        print('老师')\n",
    "t1 = Teacher('zs',20)\n",
    "print(t1.name,t1.age)\n",
    "t1.show()\n",
    "\n",
    "\n",
    "t2 = Teacher('ls',19)\n",
    "print(t2.name,t2.age)"
   ]
  },
  {
   "cell_type": "code",
   "execution_count": 24,
   "metadata": {
    "code_folding": [
     0
    ]
   },
   "outputs": [
    {
     "name": "stdout",
     "output_type": "stream",
     "text": [
      "zs 20\n",
      "zs 20\n"
     ]
    }
   ],
   "source": [
    "# 单继承\n",
    "# 父类\n",
    "class Person(object):\n",
    "    def __init__(self,name,age):\n",
    "        # 属性\n",
    "        self.name = name\n",
    "        self.age = age\n",
    "    # 对象方法\n",
    "    def show(self):\n",
    "        print(self.name,self.age)\n",
    "\n",
    "# 子类\n",
    "class Student(Person):\n",
    "    pass\n",
    "\n",
    "# 创建student\n",
    "stu = Student('zs',20)\n",
    "# 子类可以直接使用父类的属性和方法\n",
    "print(stu.name,stu.age)\n",
    "stu.show()\n"
   ]
  },
  {
   "cell_type": "code",
   "execution_count": 29,
   "metadata": {
    "code_folding": [
     0
    ]
   },
   "outputs": [
    {
     "name": "stdout",
     "output_type": "stream",
     "text": [
      "B类\n",
      "[<class '__main__.C'>, <class '__main__.A'>, <class '__main__.B'>, <class 'object'>]\n"
     ]
    }
   ],
   "source": [
    "# 多继承\n",
    "class A(object):\n",
    "    \n",
    "    def show(self):\n",
    "        print('A类')\n",
    " \n",
    "class B(object):\n",
    "    \n",
    "    def show(self):\n",
    "        print('B类')\n",
    "\n",
    "class C(A,B):\n",
    "    pass\n",
    "\n",
    "c = C()\n",
    "c.show()\n",
    "\n",
    "# 会遵循mro规则，决定类继承顺序，决定方法调用的查找顺序\n",
    "print(C.mro())\n",
    "\n"
   ]
  },
  {
   "cell_type": "code",
   "execution_count": 31,
   "metadata": {
    "code_folding": [
     0
    ]
   },
   "outputs": [
    {
     "name": "stdout",
     "output_type": "stream",
     "text": [
      "我的名字：zs, 我的年龄：20\n"
     ]
    }
   ],
   "source": [
    "# 重写\n",
    "# 重写的特点：1. 继承 2. 方法名形同\n",
    "# 父类\n",
    "class Person(object):\n",
    "    def __init__(self,name,age):\n",
    "        # 属性\n",
    "        self.name = name\n",
    "        self.age = age\n",
    "    # 对象方法\n",
    "    def show(self):\n",
    "        print(self.name,self.age)\n",
    "\n",
    "# 子类\n",
    "class Student(Person):\n",
    "    \n",
    "    def __init__(self,name,age,sex):\n",
    "        \n",
    "        self.name = name\n",
    "        self.age = age\n",
    "        self.sex = sex\n",
    "    \n",
    "    # 因为父类的方法满足不了子类的需求时候，对其重写\n",
    "    def show(self):\n",
    "        print('我的名字：%s, 我的年龄：%d'% (self.name,self.age))\n",
    "    \n",
    "stu = Student('zs',20,'男')\n",
    "stu.height = 180\n",
    "stu.show()\n"
   ]
  },
  {
   "cell_type": "code",
   "execution_count": 35,
   "metadata": {
    "code_folding": []
   },
   "outputs": [
    {
     "name": "stdout",
     "output_type": "stream",
     "text": [
      "dog show\n",
      "Animal  run\n",
      "[<class '__main__.Dog'>, <class '__main__.Animal'>, <class 'object'>]\n"
     ]
    }
   ],
   "source": [
    "# 子类的方法中调用父类的方法\n",
    "class Animal(object):\n",
    "    \n",
    "    # 实例（对象）方法\n",
    "    def run(self):\n",
    "        print('Animal  run')\n",
    "        \n",
    "class Dog(Animal):\n",
    "    \n",
    "    # 重写了父类的方法\n",
    "    def run(self):\n",
    "        print('Dog run')\n",
    "        \n",
    "    def show(self):\n",
    "        print('dog show')\n",
    "        \n",
    "        # 调用父类的方法run()\n",
    "        # 1. Animal类名,类名去调用方法的时候需要传实例对象\n",
    "#         Animal.run(self)\n",
    "        \n",
    "        # 2。 使用super（）\n",
    "        # self : 指定继承链\n",
    "        # Dog ： 表示从self指定的那个继承链中Dog后面的继承关系开始找\n",
    "        super(Dog,self).run()\n",
    "        print(self.__class__.mro())\n",
    "        \n",
    "#         self.run() # 调用的是自己的run\n",
    "        \n",
    "\n",
    "dog = Dog()\n",
    "# 对象调用方法  对象名.方方法名（）\n",
    "dog.show()\n",
    "\n",
    "        \n",
    "# 定义一个类： 要有属性和方法\n",
    "# 根据类创建对象，\n",
    "\n",
    "# 类名调用方法  类名.方法名（实例对象）\n",
    "# Dog.show(dog) (不是重点，是拓展知识点) "
   ]
  },
  {
   "cell_type": "code",
   "execution_count": 43,
   "metadata": {
    "code_folding": [
     0
    ]
   },
   "outputs": [
    {
     "name": "stdout",
     "output_type": "stream",
     "text": [
      "zs\n",
      "我的名字：zs, 我的年龄：20, 我的身高：180\n",
      "0\n"
     ]
    }
   ],
   "source": [
    "# 私有方法和私有属性\n",
    "class Student(Person):\n",
    "    \n",
    "    def __init__(self,name,age,height):\n",
    "        \n",
    "        # 公共属性\n",
    "        self.name = name\n",
    "        self.age = age\n",
    "        \n",
    "        # 私有属性(__开始的属性)\n",
    "        self.__height = height\n",
    "    \n",
    "    def show(self):\n",
    "        print('我的名字：%s, 我的年龄：%d, 我的身高：%d'% (self.name,self.age,self.__height))\n",
    "    \n",
    "stu = Student('zs',20,180)\n",
    "print(stu.name)\n",
    "\n",
    "# print(stu.__height)  # 外面调用不了私有属性\n",
    "\n",
    "# 不能修改私有属性，这种凡是只是添加了一个属性而已，名字是__height\n",
    "stu.__height = 190\n",
    "stu.show()\n",
    "\n",
    "\n",
    "class Person(object):\n",
    "    def __init__(self,name):\n",
    "        self.name = name\n",
    "        self.__age = 0\n",
    "    \n",
    "    # 设置年龄的\n",
    "    def set_age(self,new_age):\n",
    "        # 错误的判断\n",
    "        if new_age > 0 and new_age < 100:\n",
    "            self.__age = new_age\n",
    "            # 存数据库\n",
    "        else:\n",
    "            self.__age = 0\n",
    "            # 存数据库\n",
    "            \n",
    "    # 获取年龄\n",
    "    def get_age(self):\n",
    "        \n",
    "        return self.__age\n",
    "        \n",
    "p = Person('zs')\n",
    "\n",
    "p.set_age(-20)\n",
    "\n",
    "print(p.get_age())\n"
   ]
  },
  {
   "cell_type": "code",
   "execution_count": null,
   "metadata": {},
   "outputs": [],
   "source": []
  }
 ],
 "metadata": {
  "kernelspec": {
   "display_name": "py37",
   "language": "python",
   "name": "py37"
  },
  "language_info": {
   "codemirror_mode": {
    "name": "ipython",
    "version": 3
   },
   "file_extension": ".py",
   "mimetype": "text/x-python",
   "name": "python",
   "nbconvert_exporter": "python",
   "pygments_lexer": "ipython3",
   "version": "3.7.3"
  }
 },
 "nbformat": 4,
 "nbformat_minor": 2
}
