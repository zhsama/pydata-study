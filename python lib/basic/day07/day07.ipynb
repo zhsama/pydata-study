{
 "cells": [
  {
   "cell_type": "code",
   "execution_count": 3,
   "metadata": {},
   "outputs": [
    {
     "name": "stdout",
     "output_type": "stream",
     "text": [
      "name 'num' is not defined\n",
      "有异常处理，不会影响下面的代码\n"
     ]
    }
   ],
   "source": [
    "# 异常,代码会终止运行\n",
    "# print(num)\n",
    "# print(1)\n",
    "\n",
    "try:\n",
    "    print(num)\n",
    "    # 认为会出现异常的代码放在这个位置\n",
    "except NameError as e:\n",
    "    print('有异常出现的时候会执行这里面的代码')\n",
    "    print(e)\n",
    "\n",
    "print('有异常处理，不会影响下面的代码')\n"
   ]
  },
  {
   "cell_type": "code",
   "execution_count": 4,
   "metadata": {},
   "outputs": [
    {
     "name": "stdout",
     "output_type": "stream",
     "text": [
      "有异常出现的时候会执行这里面的代码\n",
      "name 'num' is not defined\n",
      "有异常处理，不会影响下面的代码\n"
     ]
    }
   ],
   "source": [
    "try:\n",
    "    print(num)\n",
    "    # 认为会出现异常的代码放在这个位置\n",
    "except Exception as e:\n",
    "    print('有异常出现的时候会执行这里面的代码')\n",
    "    print(e)\n",
    "\n",
    "print('有异常处理，不会影响下面的代码')"
   ]
  },
  {
   "cell_type": "code",
   "execution_count": null,
   "metadata": {},
   "outputs": [
    {
     "name": "stdout",
     "output_type": "stream",
     "text": [
      "请输入数字1\n",
      "没有异常会执行else\n",
      "有没有异常都会执行这个里面的代码\n",
      "请输入数字a\n",
      "有异常会执行\n",
      "请输入数字。。。。\n",
      "有没有异常都会执行这个里面的代码\n"
     ]
    }
   ],
   "source": [
    "\n",
    "# 使用if \n",
    "# while True:\n",
    "#     my_str = input('请输入数字') \n",
    "    \n",
    "#     if my_str.isdigit():\n",
    "#         num = int(my_str) + 1\n",
    "#         break\n",
    "#     else:\n",
    "#         print('请输入数字。。。。')\n",
    "\n",
    "# 使用try\n",
    "\n",
    "while True:\n",
    "    my_str = input('请输入数字')\n",
    "    \n",
    "    try:\n",
    "        num = int(my_str) + 1\n",
    "        \n",
    "    except Exception as e:\n",
    "        print('有异常会执行')\n",
    "        print('请输入数字。。。。')\n",
    "    \n",
    "    else:\n",
    "        print('没有异常会执行else')\n",
    "    finally:\n",
    "        print('有没有异常都会执行这个里面的代码')\n",
    "print('end')"
   ]
  },
  {
   "cell_type": "code",
   "execution_count": 5,
   "metadata": {},
   "outputs": [
    {
     "name": "stdout",
     "output_type": "stream",
     "text": [
      "utf-8\n"
     ]
    }
   ],
   "source": [
    "# 文件读写\n",
    "# 1. 打开文件\n",
    "# 2. 对文件的内容的操作（读，写）\n",
    "# 3. 关闭文件\n",
    "# my_list = []\n",
    "# 打开方式\n",
    "# r : 只读，文件不存在会崩溃\n",
    "# w : 只写，会将原来的内容覆盖，如果文件不存在，会创建一个文件打开\n",
    "# a : 追加写入\n",
    "\n",
    "# -----w模式----\n",
    "\n",
    "# 打开\n",
    "# encoding编码格式： win写入中文时需要指定编码格式，不然会出现乱码， 默认的编码格式是gbk\n",
    "# Linux和Mac，默认的编码格式是utf-8\n",
    "f = open('./1.txt','w',encoding='utf-8')\n",
    "print(f.encoding) # windows位置 ： cp936->GBK\n",
    "# 写入数据\n",
    "#  注意： 文件打开之后，多次写入数据不会覆盖前面的数据\n",
    "f.write('A')\n",
    "f.write('B')\n",
    "f.write('哈哈')\n",
    "# 关闭文件\n",
    "f.close()\n",
    "\n"
   ]
  },
  {
   "cell_type": "code",
   "execution_count": 6,
   "metadata": {},
   "outputs": [
    {
     "name": "stdout",
     "output_type": "stream",
     "text": [
      "AB哈哈\n"
     ]
    }
   ],
   "source": [
    "# ---r模式--\n",
    "f = open('./1.txt','r',encoding='utf-8')\n",
    "# 读取数据\n",
    "content = f.read() # 读取文件中的所有数据\n",
    "print(content)\n",
    "# 关闭\n",
    "f.close()"
   ]
  },
  {
   "cell_type": "code",
   "execution_count": 7,
   "metadata": {},
   "outputs": [],
   "source": [
    "# ---a模式---\n",
    "# f = open('./1.txt','a',encoding='utf-8')\n",
    "\n",
    "# f.write('abc')\n",
    "\n",
    "# # 关闭\n",
    "# f.close()"
   ]
  },
  {
   "cell_type": "code",
   "execution_count": 13,
   "metadata": {},
   "outputs": [
    {
     "name": "stdout",
     "output_type": "stream",
     "text": [
      "b'AB\\xe5\\x93\\x88\\xe5\\x93\\x88abc' <class 'bytes'>\n",
      "AB哈哈abc\n",
      "b'AB\\xe5\\x93\\x88\\xe5\\x93\\x88abc'\n"
     ]
    }
   ],
   "source": [
    "# ---rb模式（以二进制的模式读取）--\n",
    "# 注意点： 带有b的模式都是二进制的的模式，在这种模式下，不管什么系统都不要添加encodeing参数\n",
    "f = open('./1.txt','rb')\n",
    "# 读取数据\n",
    "content = f.read() # 读取文件中的所有数据\n",
    "print(content,type(content))\n",
    "\n",
    "# 对二进制数据进行utf-8的解码操作， 将bytes类型数据转化成str，就是解码操作\n",
    "result  = content.decode('utf-8')\n",
    "print(result)\n",
    "\n",
    "# 拓展 将str类型数据转化成bytes ,编码\n",
    "print(result.encode('utf-8'))\n",
    "\n",
    "# 关闭\n",
    "f.close()"
   ]
  },
  {
   "cell_type": "code",
   "execution_count": 14,
   "metadata": {},
   "outputs": [],
   "source": [
    "# 文件的拷贝\n",
    "# 打开两个文件（源文件，副本）\n",
    "old_file = open('./test.txt','rb')\n",
    "# 副本文件\n",
    "new_file = open('/Users/mac/Desktop/test[副本].txt','wb')\n",
    "\n",
    "# 文件的操作\n",
    "while True:\n",
    "    \n",
    "    # a 占有一个字节， 中文-占有三个字节\n",
    "    # 1024字节- 1kB\n",
    "    file_data = old_file.read(1024) # 如果你的文件比较大，分批次的去读取和写入\n",
    "    # 判读数据什么时候读取完成\n",
    "    if len(file_data)==0:\n",
    "        break\n",
    "    # 写入到new\n",
    "    new_file.write(file_data)\n",
    "\n",
    "# 文件的关闭\n",
    "old_file.close()\n",
    "new_file.close()"
   ]
  },
  {
   "cell_type": "code",
   "execution_count": 28,
   "metadata": {},
   "outputs": [
    {
     "name": "stdout",
     "output_type": "stream",
     "text": [
      "[1, 2, 3, ['a', 'b', 'c']]\n",
      "[1, 2, 3, ['a', 'b']]\n"
     ]
    }
   ],
   "source": [
    "# 拓展部分\n",
    "# 1. 引用 （内存地址）\n",
    "# a = 'abc' # a存储的就是‘abc’在内存中的一个地址\n",
    "# print(id(a))\n",
    "# print(hex(id(a)))\n",
    "\n",
    "# 2.可变类型和不可变类型\n",
    "# 列表，字典，集合 可变类型（在原有的数据基础上进行修改或者删除），内存地址不变\n",
    "# 字符串，数字，元组  不可变类型 （在原有的数据基础上进行修改或者删除），内存地址变化\n",
    "\n",
    "# my_list = [1,5,6]\n",
    "# print(my_list,id(my_list))\n",
    "# my_list[0] = 3\n",
    "# my_list.append(9)\n",
    "\n",
    "# print(my_list,id(my_list))\n",
    "\n",
    "\n",
    "# my_str = 'hello'\n",
    "# print(id(my_str))\n",
    "\n",
    "# my_str = 'world'\n",
    "# print(id(my_str))\n",
    "\n",
    "# 深拷贝和浅拷贝\n",
    "\n",
    "# 1. 直接赋值,默认就是浅拷贝，传递的就是对象的引用\n",
    "# alist = [1,2,3,['a','b']]\n",
    "# blist = alist\n",
    "# print(id(alist))\n",
    "# print(id(blist))\n",
    "# alist.append('4')\n",
    "# print(alist)\n",
    "# print(blist)\n",
    "\n",
    "# 2. copy浅拷贝，只拷贝一层，没有拷贝子对象\n",
    "import copy\n",
    "alist = [1,2,3,['a','b']]\n",
    "# alist = [1,2,3,4]\n",
    "# blist = copy.copy(alist)\n",
    "# # print(id(alist))\n",
    "# # print(id(blist))\n",
    "# # alist.append('4')\n",
    "# # print(alist)\n",
    "# # print(blist)\n",
    "\n",
    "# alist[3].append('c')\n",
    "# print(alist)\n",
    "# print(blist)\n",
    "\n",
    "# 3. deepcopy 深拷贝，可以拷贝多层\n",
    "alist = [1,2,3,['a','b']]\n",
    "blist = copy.deepcopy(alist)\n",
    "# print(id(alist))\n",
    "# print(id(blist))\n",
    "# alist.append('4')\n",
    "# print(alist)\n",
    "# print(blist)\n",
    "\n",
    "alist[3].append('c')\n",
    "print(alist)\n",
    "print(blist)"
   ]
  },
  {
   "cell_type": "code",
   "execution_count": null,
   "metadata": {},
   "outputs": [],
   "source": []
  }
 ],
 "metadata": {
  "kernelspec": {
   "display_name": "py37",
   "language": "python",
   "name": "py37"
  },
  "language_info": {
   "codemirror_mode": {
    "name": "ipython",
    "version": 3
   },
   "file_extension": ".py",
   "mimetype": "text/x-python",
   "name": "python",
   "nbconvert_exporter": "python",
   "pygments_lexer": "ipython3",
   "version": "3.7.3"
  }
 },
 "nbformat": 4,
 "nbformat_minor": 2
}
