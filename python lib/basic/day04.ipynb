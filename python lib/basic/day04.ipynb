{
 "cells": [
  {
   "cell_type": "code",
   "execution_count": null,
   "metadata": {
    "code_folding": [
     0
    ]
   },
   "outputs": [],
   "source": [
    "# 函数的定义和调用\n",
    "\n",
    "# def 函数名(参数[可选]):\n",
    "#     # 功能代码\n",
    "#     pass\n",
    "\n",
    "# 定义（并不会执行里面的功能代码）\n",
    "def show():\n",
    "    print('hello world')\n",
    "\n",
    "# 调用（执行里面的功能代码）\n",
    "show()\n",
    "\n",
    "# 函数的调用顺序\n",
    "\n",
    "\n"
   ]
  },
  {
   "cell_type": "code",
   "execution_count": null,
   "metadata": {
    "code_folding": [
     0
    ]
   },
   "outputs": [],
   "source": [
    "# 函数的文档说明\n",
    "def show(num1):\n",
    "    '''函数的功能:\n",
    "        num1 数字\n",
    "    '''\n",
    "    print('hello world')\n",
    "\n",
    "# help(show)\n",
    "print(show.__doc__)\n"
   ]
  },
  {
   "cell_type": "code",
   "execution_count": null,
   "metadata": {
    "code_folding": [
     0
    ]
   },
   "outputs": [],
   "source": [
    "# 函数的几种类型\n",
    "\n",
    "# 无参数，没有返回值\n",
    "# def show():\n",
    "#     print('hello world')\n",
    "# 有参数，没有返回值\n",
    "# def show(name,age):\n",
    "#     print('我叫：%s, 年龄：%d'%(name,age))\n",
    "\n",
    "# show('帅哥',18)\n",
    "\n",
    "# 无参数，有返回值\n",
    "# def show():\n",
    "#     str1 = 'hello world'\n",
    "    \n",
    "#     return str1\n",
    "# str2 = show()\n",
    "# print(str2)\n",
    "\n",
    "# 有参数，有返回值\n",
    "# def show(name,age):\n",
    "#     str1 = 'hello%s world %d'%(name,age)\n",
    "    \n",
    "#     return str1\n",
    "# str2 = show('a',10)\n",
    "# print(str2)"
   ]
  },
  {
   "cell_type": "code",
   "execution_count": null,
   "metadata": {
    "code_folding": [
     0
    ]
   },
   "outputs": [],
   "source": [
    "def show():\n",
    "    print('aa')\n",
    "\n",
    "# show()\n",
    "def show():\n",
    "    print('bb')\n",
    "\n",
    "# show()\n",
    "print(show)\n",
    "\n",
    "show =10\n",
    "print(show)\n",
    "show()\n",
    "\n",
    "# 注意：函数名不要相同，也不要和变量名相同"
   ]
  },
  {
   "cell_type": "code",
   "execution_count": null,
   "metadata": {
    "code_folding": [
     0
    ]
   },
   "outputs": [],
   "source": [
    "# 注意点\n",
    "# 缺省参数,可以设置默认值\n",
    "# def sum_num(num1=1,num2): # 函数定义的时候，如果第一个使用了缺省参数（设置对了默认值），后面的参数又要这样去写\n",
    "#     result = num1 + num2\n",
    "#     return result\n",
    "\n",
    "# # re = sum_num(1,2)\n",
    "# # re = sum_num(1,3)\n",
    "# re = sum_num(4,2)\n",
    "# print(re)\n",
    "\n",
    "# 缺省参数的默认值，不要是用可变类型([] {}),str （）None\n",
    "# def show(arg=[]):\n",
    "#     print(id(arg))\n",
    "#     arg.append('end')\n",
    "#     print(arg)\n",
    "\n",
    "# show([1])\n",
    "# show()\n",
    "\n"
   ]
  },
  {
   "cell_type": "code",
   "execution_count": null,
   "metadata": {},
   "outputs": [],
   "source": [
    "# 函数的不定长参数\n",
    "# 不定长必选参数(*args)\n",
    "def sum_num(*args):\n",
    "    '''所有传过来的数字的和'''\n",
    "    print(args,type(args))\n",
    "    \n",
    "    result = 0\n",
    "    for value in args:\n",
    "        result += value\n",
    "    return result\n",
    "\n",
    "\n",
    "re  = sum_num(1,2,3,4)\n",
    "print(re)\n"
   ]
  },
  {
   "cell_type": "code",
   "execution_count": null,
   "metadata": {
    "code_folding": [
     0
    ]
   },
   "outputs": [],
   "source": [
    "# 不定长关键字参数(**kargs)\n",
    "def sum_num(**kargs):\n",
    "\n",
    "    print(kargs,type(kargs))\n",
    "    \n",
    "#     for key,value in kargs.items():\n",
    "#         print(key,value)\n",
    "    # 函数嵌套的时候如何传参\n",
    "    show(**kargs)\n",
    "    print('end')\n",
    "\n",
    "# sum_num(num1=1,num2=2) # ->**kargs {}\n",
    "# sum_num(1,2) # -> *args  ()\n",
    "\n",
    "def show(**kargs):\n",
    "    print(kargs)\n",
    "\n",
    "sum_num(num1=1,num2=2)"
   ]
  },
  {
   "cell_type": "code",
   "execution_count": null,
   "metadata": {
    "code_folding": [
     0,
     1
    ]
   },
   "outputs": [],
   "source": [
    "# 作业\n",
    "def show(num1,*args,num2 = 1,**kargs):\n",
    "    print(1)\n",
    "\n",
    "show(1,2,3,a= 20) \n",
    "# 作业： num1,*args,num2=1,**kargs  把这几个参数的位置进行调换，然后说出为什么要这样排列？\n",
    "\n",
    "def show(*args,**kargs):\n",
    "    pass\n"
   ]
  },
  {
   "cell_type": "code",
   "execution_count": null,
   "metadata": {
    "code_folding": [
     0
    ]
   },
   "outputs": [],
   "source": [
    "# 递归函数\n",
    "def show():\n",
    "    print(1)\n",
    "    show()\n",
    "    print('end')\n",
    "show()\n",
    "\n",
    "# 递归函数容易造成死循环，原因： 就是没有结束递归的条件\n",
    "\n",
    "# 5！= 5 * 4！\n",
    "# 4！= 4 * 3！\n",
    "# 3！= 3 * 2！\n",
    "# 2！= 2 * 1！\n",
    "# 1！= 1\n",
    "\n",
    "# 可以算某个数的阶乘\n",
    "# def num_calc(num):\n",
    "    \n",
    "#     if num == 1:\n",
    "#         return 1\n",
    "#     else:\n",
    "#         return num * num_calc(num-1)\n",
    "        \n",
    "# result = num_calc(5)\n",
    "# print(result)\n",
    "\n",
    "# 拓展：\n",
    "import sys\n",
    "\n",
    "# 设置递归数\n",
    "sys.setrecursionlimit = 1000\n",
    "\n",
    "#获取递归次数\n",
    "sys.getrecursionlimit()\n"
   ]
  },
  {
   "cell_type": "code",
   "execution_count": null,
   "metadata": {
    "code_folding": [
     0
    ]
   },
   "outputs": [],
   "source": [
    "# 局部变量： 函数定义内的变量\n",
    "# def show():\n",
    "#     # 局部变量\n",
    "#     num = 100\n",
    "#     print(num)\n",
    "\n",
    "# show()\n",
    "# # print(num)\n",
    "\n",
    "# def func():\n",
    "#     print(num)\n",
    "# func()\n"
   ]
  },
  {
   "cell_type": "code",
   "execution_count": 60,
   "metadata": {},
   "outputs": [
    {
     "name": "stdout",
     "output_type": "stream",
     "text": [
      "10\n",
      "10\n"
     ]
    }
   ],
   "source": [
    "# 全局变量：在函数外面定义的变量\n",
    "\n",
    "# 全局变量(尽量用大写，g_num)\n",
    "NUM  = 100\n",
    "# g_num = 100\n",
    "def show():\n",
    "    # 局部变量\n",
    "    global num\n",
    "    num = 10\n",
    "    print(num)\n",
    "\n",
    "show()\n",
    "print(num)\n"
   ]
  },
  {
   "cell_type": "code",
   "execution_count": 61,
   "metadata": {},
   "outputs": [
    {
     "name": "stdout",
     "output_type": "stream",
     "text": [
      "1 2 3\n"
     ]
    }
   ],
   "source": [
    "# a,b,c = 1,2,3\n",
    "# print(a,b,c)"
   ]
  },
  {
   "cell_type": "code",
   "execution_count": null,
   "metadata": {},
   "outputs": [],
   "source": []
  }
 ],
 "metadata": {
  "kernelspec": {
   "display_name": "py37",
   "language": "python",
   "name": "py37"
  },
  "language_info": {
   "codemirror_mode": {
    "name": "ipython",
    "version": 3
   },
   "file_extension": ".py",
   "mimetype": "text/x-python",
   "name": "python",
   "nbconvert_exporter": "python",
   "pygments_lexer": "ipython3",
   "version": "3.7.3"
  }
 },
 "nbformat": 4,
 "nbformat_minor": 2
}
