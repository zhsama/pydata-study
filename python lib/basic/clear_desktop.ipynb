{
 "cells": [
  {
   "cell_type": "code",
   "execution_count": 10,
   "metadata": {
    "scrolled": true
   },
   "outputs": [
    {
     "name": "stdout",
     "output_type": "stream",
     "text": [
      "请输入整理后的文件夹名字：clean\n"
     ]
    }
   ],
   "source": [
    "import os\n",
    "import shutil\n",
    "# 获取桌面路径\n",
    "desktop = os.path.join(os.path.expanduser('~'),'Desktop')\n",
    "# print(desktop)\n",
    "\n",
    "name = input('请输入整理后的文件夹名字：')\n",
    "\n",
    "clean = os.path.join(desktop,name)\n",
    "\n",
    "# 判断路径是否存在\n",
    "isExists = os.path.exists(clean) \n",
    "\n",
    "if isExists == False:\n",
    "    # 创建文件夹\n",
    "    os.mkdir(clean)\n",
    "\n",
    "# 获取桌面上的所有文件\n",
    "name_list = os.listdir(desktop)\n",
    "# print(name_list)\n",
    "\n",
    "#将文件分类\n",
    "for file in name_list:\n",
    "    filepath = os.path.join(desktop,file)\n",
    "    if not os.path.isfile(filepath):\n",
    "        continue\n",
    "    elif os.path.isfile(filepath):\n",
    "        # 分割文件名和扩展名\n",
    "        fileExpand = os.path.splitext(file)[1]\n",
    "        # 去点操作\n",
    "        fileExpand = fileExpand[1:] \n",
    "        \n",
    "        # 创建文件夹\n",
    "        expand_file_name = os.path.join(clean,fileExpand)\n",
    "        \n",
    "        if not os.path.exists(expand_file_name):\n",
    "            os.mkdir(expand_file_name)\n",
    "        \n",
    "        \n",
    "        # 移动文件到响应的文件下\n",
    "        shutil.move(filepath,expand_file_name)\n"
   ]
  },
  {
   "cell_type": "code",
   "execution_count": null,
   "metadata": {},
   "outputs": [],
   "source": []
  }
 ],
 "metadata": {
  "kernelspec": {
   "display_name": "py37",
   "language": "python",
   "name": "py37"
  },
  "language_info": {
   "codemirror_mode": {
    "name": "ipython",
    "version": 3
   },
   "file_extension": ".py",
   "mimetype": "text/x-python",
   "name": "python",
   "nbconvert_exporter": "python",
   "pygments_lexer": "ipython3",
   "version": "3.7.3"
  }
 },
 "nbformat": 4,
 "nbformat_minor": 2
}
