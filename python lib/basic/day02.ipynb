{
 "cells": [
  {
   "cell_type": "code",
   "execution_count": null,
   "metadata": {
    "code_folding": [
     0
    ]
   },
   "outputs": [],
   "source": [
    "# 1. 注释\n",
    "\n",
    "# 注释分为单行注释和多行注释\n",
    "\n",
    "# 单行注释是以# 开始\n",
    "# 多行注释，可以使用三个双引号或者三个单引号\n",
    "'''\n",
    "a\n",
    "a\n",
    "a\n",
    "'''\n",
    "\"\"\"\n",
    "a\n",
    "a\n",
    "a\n",
    "\"\"\""
   ]
  },
  {
   "cell_type": "code",
   "execution_count": null,
   "metadata": {
    "code_folding": [
     0
    ]
   },
   "outputs": [],
   "source": [
    "# 2. 变量的定义\n",
    "\n",
    "# 变量名 = 数据\n",
    "score = 100  # 定义了一个变量名字叫做score，存储的数据是100\n",
    "\n",
    "print(score)\n",
    "\n",
    "# #注意：变量第一次被赋值的时候表示定义了一个变量，如果不是第一次出现，就不是定义变量，是给这个已经存在的变量重新赋值\n",
    "# money = 50\n",
    "# money = money -10\n",
    "# money\n",
    "\n",
    "pi = 3.14\n",
    "print(type(pi))\n",
    "is_ok = True   # True  False\n",
    "print(type(is_ok))"
   ]
  },
  {
   "cell_type": "code",
   "execution_count": null,
   "metadata": {
    "code_folding": [
     0
    ]
   },
   "outputs": [],
   "source": [
    "# 3. 变量的命名规则\n",
    "# 由字母。数字，下划线   ，不能以数字开头 ,特殊符号\n",
    "\n",
    "# 错误的\n",
    "# 3name = 'zs'\n",
    "# name!age = 18\n",
    "\n"
   ]
  },
  {
   "cell_type": "code",
   "execution_count": null,
   "metadata": {
    "code_folding": [
     0
    ]
   },
   "outputs": [],
   "source": [
    "# 4. 关键字  (不可以使用这些去命名)\n",
    "import keyword\n",
    "\n",
    "print(keyword.kwlist)"
   ]
  },
  {
   "cell_type": "code",
   "execution_count": null,
   "metadata": {
    "code_folding": [
     0
    ]
   },
   "outputs": [],
   "source": [
    "# 5. 常用的数据类型转换\n",
    "\n",
    "my_str = \"10\"\n",
    "# 把字符串转成 int 类型\n",
    "num2 = int(my_str)\n",
    "\n",
    "# print(num2)\n",
    "# print(type(num2))\n",
    "\n",
    "#判断数据是不是指定类型\n",
    "# print(isinstance(num2,int))\n"
   ]
  },
  {
   "cell_type": "code",
   "execution_count": null,
   "metadata": {
    "code_folding": [
     0
    ]
   },
   "outputs": [],
   "source": [
    "# 6. 输入和输出\n",
    "# 输出\n",
    "# print(1)\n",
    "# print('helloworld')\n",
    "\n",
    "# str1 = 'hello'\n",
    "# str2 = 'world'\n",
    "\n",
    "# 输出多个变量的时候， 中间要用 ， 分割\n",
    "# print(str1,str2)\n",
    "\n",
    "# 修改分隔符(默认有一个空格)\n",
    "# print(str1,str2,sep='&')\n",
    "\n",
    "# 默认有一个换行符 \\n\n",
    "# print('hello',end='')\n",
    "# print('world')\n",
    "\n",
    "# print??\n",
    "\n",
    "# 输入\n",
    "# str1 = input('请输入：') # 所有返回来的值都是str类型\n",
    "# print(str1)\n",
    "# py3 中input --》 str  py2  ： raw_input\n",
    "\n",
    "# 输入多个值\n",
    "# str1 = input('请输入：').split(',') # 返回的是一个list\n",
    "# print(str1)"
   ]
  },
  {
   "cell_type": "code",
   "execution_count": null,
   "metadata": {
    "code_folding": [
     0
    ]
   },
   "outputs": [],
   "source": [
    "# 7.格式化输出\n",
    "# 格式化符号： \n",
    "name = 'li'\n",
    "age = 18\n",
    "\n",
    "print('我叫%s ,年龄%d' % (name,age))\n",
    "\n",
    "# format 格式化函数\n",
    "print('我叫{} ,年龄{}'.format(name,age))\n",
    "\n",
    "print('我叫{na} ,年龄{ag}'.format(na=age,ag=name))\n",
    "\n",
    "print('我叫{0} ,年龄{1}'.format(age,name)) \n",
    "print('我叫{1} ,年龄{1}'.format(age,name))\n",
    "# 索引是从0开始的\n"
   ]
  },
  {
   "cell_type": "code",
   "execution_count": null,
   "metadata": {
    "code_folding": [
     0
    ]
   },
   "outputs": [],
   "source": [
    "# 8.运算符\n",
    "# a = 10 + 10\n",
    "# a -> 20 \n",
    "# a = 0\n",
    "# a = a + 1\n",
    "\n",
    "# 成员运算符\n",
    "# in 判断的时候，结果： True 或者 False\n",
    "# name = 'abcd'\n",
    "# print('a' in name)\n",
    "# print('a' not in name)\n",
    "\n",
    "# 逻辑运算符(多个条件在一起的时候)\n",
    "# and  多个条件必须同时成立 ，他的结果才是 True， 只要有一个是False ，就是False\n",
    "# or  只要有一个条件必须成立 ，他的结果就是 True， 全是False ，结果是False\n",
    "# not 把你的运算结果进行取反  ， not True -> False \n",
    "# score = 30 \n",
    "# # <  > <= >=  \n",
    "# print(score >= 0)\n",
    "# print(score <= 50)\n",
    "\n",
    "# True or False -》 True\n",
    "# if score >= 0 or score <= 10:\n",
    "#     print('keyi')\n",
    "# score >= 0 or score <= 10\n",
    "\n",
    "# 运算符的优先级\n",
    "# (and or not ) < (<  > <= >= ) \n",
    "\n",
    "# or < and < not\n",
    "# print(True or True and False) # True or True-> True and False - False\n",
    "print(not True and False)"
   ]
  },
  {
   "cell_type": "code",
   "execution_count": null,
   "metadata": {
    "code_folding": [
     0
    ],
    "scrolled": true
   },
   "outputs": [],
   "source": [
    "# 9.if 判断\n",
    "\n",
    "# if 表达式:  \n",
    "#     执行的语句\n",
    "age = 17\n",
    "if age >= 18:\n",
    "    print('your age is', age)\n",
    "    print('adult')\n",
    "print('end')"
   ]
  },
  {
   "cell_type": "code",
   "execution_count": null,
   "metadata": {
    "code_folding": [
     0
    ]
   },
   "outputs": [],
   "source": [
    "# 10.循环\n",
    "# 顺序执行\n",
    "# 选择执行\n",
    "# 循环执行\n",
    "# print(1)\n",
    "# print(2)\n",
    "# print(3)\n",
    "# 1-5\n",
    "\n",
    "# 死循环\n",
    "# num = 1\n",
    "# while num <= 5:\n",
    "#     print(num)\n",
    "\n",
    "# num = 1\n",
    "# while num <= 5: # true\n",
    "#     num += 1    # 2\n",
    "#     print(num)\n",
    "\n",
    "# print('end')\n",
    "\n",
    "# 注意： 循环的时候必须有结束条件\n",
    "    \n",
    "# for 循环\n",
    "# for 变量名 in 条件：\n",
    "#     执行语句\n",
    "\n",
    "# 产生一个范围内的数据(特点， 包含起始， 不包含该结束)\n",
    "# range(起始，结束，步长) 12345  135   步长 默认为1\n",
    "# print(list(range(1,6,2)))   \n",
    "\n",
    "# for in 产生1-5\n",
    "for value in range(1,6): \n",
    "    if value == 2:\n",
    "        continue\n",
    "#         break\n",
    "    print(value)\n",
    "    \n",
    "    \n",
    "    \n",
    "    "
   ]
  },
  {
   "cell_type": "code",
   "execution_count": null,
   "metadata": {},
   "outputs": [],
   "source": []
  }
 ],
 "metadata": {
  "kernelspec": {
   "display_name": "py37",
   "language": "python",
   "name": "py37"
  },
  "language_info": {
   "codemirror_mode": {
    "name": "ipython",
    "version": 3
   },
   "file_extension": ".py",
   "mimetype": "text/x-python",
   "name": "python",
   "nbconvert_exporter": "python",
   "pygments_lexer": "ipython3",
   "version": "3.7.3"
  }
 },
 "nbformat": 4,
 "nbformat_minor": 2
}
