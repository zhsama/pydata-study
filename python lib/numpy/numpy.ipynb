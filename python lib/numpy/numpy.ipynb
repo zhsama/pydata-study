{
 "cells": [
  {
   "cell_type": "code",
   "execution_count": 121,
   "metadata": {},
   "outputs": [
    {
     "name": "stdout",
     "output_type": "stream",
     "text": [
      "[[ 0.  1.  2.  3.  4.  5.]\n",
      " [ 6.  7.  8. nan nan nan]\n",
      " [12. 13. 14. 15. 16. 17.]\n",
      " [18. 19. 20. 21. 22. 23.]]\n",
      "[[ 0.  1.  2.  3.  4.  5.]\n",
      " [ 6.  7.  8. 13. 14. 15.]\n",
      " [12. 13. 14. 15. 16. 17.]\n",
      " [18. 19. 20. 21. 22. 23.]]\n"
     ]
    }
   ],
   "source": [
    "# numpy 补充\n",
    "import numpy as np\n",
    "a = np.nan\n",
    "# b = np.inf\n",
    "# print(a,type(a))\n",
    "# print(b,type(b))\n",
    "\n",
    "# --判断数组中为nan的个数(注意：float类型的数据才能赋值nan)\n",
    "# t = np.arange(24,dtype=float).reshape(4,6)\n",
    "# print(t)\n",
    "\n",
    "# 可以使用np.count_nonzero() 来判断非零的个数  \n",
    "# print(np.count_nonzero(t))\n",
    "\n",
    "# t[3,4] = np.nan\n",
    "# # 两个 nan之间是不相等的\n",
    "# # print(np.nan != np.nan) ->True  1\n",
    "# print(np.count_nonzero(t != t))\n",
    "\n",
    "# # print(np.sum(t,axis=0))\n",
    "# # print(np.isnan(t))\n",
    "# # 将nan替换为0\n",
    "# t[np.isnan(t)] = 0\n",
    "# print(t)\n",
    "\n",
    "# -------------\n",
    "t = np.arange(24).reshape(4,6).astype('float')\n",
    "\n",
    "# 将数组中的一部分替换nan\n",
    "t[1,3:] = np.nan\n",
    "print(t)\n",
    "# 遍历每一列，然后判断每一列是否有nan\n",
    "for i in range(t.shape[1]): \n",
    "\t#获取当前列数据\n",
    "\ttemp_col = t[:,i]\n",
    "\n",
    "\t# 判断当前列的数据中是否含有nan\n",
    "\tnan_num = np.count_nonzero(temp_col != temp_col)\n",
    "\n",
    "\tif nan_num != 0: # 条件成立说明含有nan\n",
    "\n",
    "\t\t# 将这一列不为nan的数据拿出来\n",
    "\t\ttemp_col_not_nan = temp_col[temp_col==temp_col]\n",
    "\n",
    "\t\t# 将nan替换成这一列的平均值\n",
    "\t\ttemp_col[np.isnan(temp_col)] = np.mean(temp_col_not_nan)\n",
    "\n",
    "print(t)"
   ]
  },
  {
   "cell_type": "code",
   "execution_count": 150,
   "metadata": {},
   "outputs": [
    {
     "name": "stdout",
     "output_type": "stream",
     "text": [
      "a    1\n",
      "b    6\n",
      "c    3\n",
      "d    5\n",
      "dtype: int64\n",
      "a     1\n",
      "b    36\n",
      "c     9\n",
      "d    25\n",
      "dtype: int64\n"
     ]
    }
   ],
   "source": [
    "# pandas\n",
    "import pandas as pd\n",
    "from pandas import Series,DataFrame\n",
    "import numpy as np\n",
    "# 一维的数组\n",
    "# sel = Series([1,2,3,4])\n",
    "# print(sel)\n",
    "\n",
    "# 通常我们会自己创建索引\n",
    "# sel =  Series(data = [1,2,3,4],index=['a','b','c','d'])\n",
    "sel =  Series(data = [1,2,3,4], index = list('abcd'))\n",
    "# print(sel.values)\n",
    "\n",
    "# print(sel.index)\n",
    "# 获取索引和值对\n",
    "# print(list(sel.iteritems()))\n",
    "\n",
    "# print(sel)\n",
    "\n",
    "# 将字典转换为Series\n",
    "# dict={\"red\":100,\"black\":400,\"green\":300,\"pink\":900}\n",
    "# se3=Series(dict)\n",
    "# print(se3)\n",
    "\n",
    "# Series数据获取\n",
    "# sel =  Series(data = [1,2,3,4], index = list('abcd'))\n",
    "# print(sel)\n",
    "\n",
    "# Series对象同时支持位置和标签两种方式获取数据\n",
    "# print('索引下标',sel['c'])\n",
    "# print('位置下标',sel[2])\n",
    "\n",
    "# 获取不连续的数据\n",
    "# print('索引下标',sel[['a','c']])\n",
    "# print('位置下标',sel[[1,3]])\n",
    "\n",
    "# # 可以使用切片或取数据\n",
    "# print('位置切片',sel[1:3])# 左包含右不包含\n",
    "# print('索引切片',sel['b':'d'])# 左右都包含\n",
    "\n",
    "# 重新赋值索引的值\n",
    "# sel.index = list('dcba')\n",
    "# print(sel)\n",
    "# # ReIndex重新索引,会返回一个新的Series(调用reindex将会重新排序，缺失值则用NaN填补)\n",
    "# result = sel.reindex(['b','a','c','d','e'])\n",
    "# print(result)\n",
    "# se1=pd.Series(range(10,15))\n",
    "# print(se1)\n",
    "# drop有没有返回值呢 有1 没有2\n",
    "# result = se1.drop([2,3])  # 没有的话  None   有： 结果\n",
    "# print(se1.drop([2,3]))\n",
    "\n",
    "\n",
    "# series1 = pd.Series([1,2,3,4],['London','HongKong','Humbai','lagos'])\n",
    "# series2 = pd.Series([1,3,6,4],['London','Accra','lagos','Delhi'])\n",
    "# print(series1)\n",
    "# print(series2)\n",
    "# print(series1-series2)\n",
    "# print(series1+series2)\n",
    "# print(series1*series2)\n",
    "\n",
    "# sel =  Series(data = [1,6,3,5], index = list('abcd'))\n",
    "# print(sel)\n",
    "# print(sel[sel>3]) # 布尔数组过滤\n",
    "# print(sel*2) # 标量乘法\n",
    "# print(np.square(sel)) # 可以直接加入到numpy的数学函数\n",
    "\n"
   ]
  },
  {
   "cell_type": "code",
   "execution_count": 152,
   "metadata": {},
   "outputs": [
    {
     "name": "stdout",
     "output_type": "stream",
     "text": [
      "   a  b  c  d\n",
      "1  7  3  5  5\n",
      "2  2  2  5  0\n",
      "3  0  2  8  6\n",
      "4  1  7  9  7\n"
     ]
    }
   ],
   "source": [
    "# 使用二维数组\n",
    "df1 = DataFrame(np.random.randint(0,10,(4,4)),index=[1,2,3,4],columns=['a','b','c','d'])\n",
    "print(df1)"
   ]
  },
  {
   "cell_type": "code",
   "execution_count": 156,
   "metadata": {},
   "outputs": [
    {
     "name": "stdout",
     "output_type": "stream",
     "text": [
      "  Name Age country\n",
      "a   zs  10      中国\n",
      "b   ls  20      韩国\n",
      "c   we  30      日本\n",
      "d  NaN  40     NaN\n"
     ]
    }
   ],
   "source": [
    "dict={\n",
    "    'Province': ['Guangdong', 'Beijing', 'Qinghai', 'Fujian'],\n",
    "    'pop': [1.3, 2.5, 1.1, 0.7],\n",
    "    'year': [2018, 2018, 2018, 2018]}\n",
    "df2=pd.DataFrame(dict,index=[1,2,3,4])\n",
    "# print(df2)\n",
    "\n",
    "# 使用from_dict\n",
    "# dict2={\"a\":[1,2,3],\"b\":[4,5,6]}\n",
    "# df6=pd.DataFrame.from_dict(dict2)\n",
    "# print(df6)\n",
    "\n",
    "data = {\n",
    "    'Name':pd.Series(['zs','ls','we'],index=['a','b','c']),\n",
    "    'Age':pd.Series(['10','20','30','40'],index=['a','b','c','d']),\n",
    "    'country':pd.Series(['中国','日本','韩国'],index=['a','c','b'])\n",
    "}\n",
    "\n",
    "df = pd.DataFrame(data)\n",
    "print(df)"
   ]
  },
  {
   "cell_type": "code",
   "execution_count": 176,
   "metadata": {
    "scrolled": true
   },
   "outputs": [
    {
     "name": "stdout",
     "output_type": "stream",
     "text": [
      "       name age national\n",
      "0     James  18       us\n",
      "1     Curry  20    China\n",
      "2  Iversion  19       us\n",
      "       name age\n",
      "1     Curry  20\n",
      "2  Iversion  19\n"
     ]
    }
   ],
   "source": [
    "# dataframe常用属性\n",
    "df_dict = {\n",
    "\t'name':['James','Curry','Iversion'],\n",
    "\t'age':['18','20','19'],\n",
    "\t'national':['us','China','us']\n",
    "}\n",
    "df = pd.DataFrame(data=df_dict,index=['0','1','2'])\n",
    "print(df)\n",
    "# 获取行数和列数\n",
    "# print(df.shape)\n",
    "\n",
    "# # # 获取行索引\n",
    "# print(df.index.tolist())\n",
    "\n",
    "# # # 获取列索引\n",
    "# print(df.columns.tolist())\n",
    "\n",
    "# # 获取数据的类型\n",
    "# print(df.dtypes)\n",
    "\n",
    "# # 获取数据的维度\n",
    "# print(df.ndim)\n",
    "\n",
    "# print(df.info())\n",
    "\n",
    "#  显示头几行,默认显示5行\n",
    "# print(df.head(2))\n",
    "\n",
    "# 显示后几行\n",
    "# print(df.tail(1))\n",
    "\n",
    "\n",
    "# 获取DataFrame的列\n",
    "\n",
    "# print(df['name'])\n",
    "\n",
    "\n",
    "#因为我们只获取一列，所以返回的就是一个 Series\n",
    "# print(type(df['name']))\n",
    "\n",
    "\n",
    "# 如果获取多个列，那返回的就是一个 DataFrame 类型：\n",
    "# print(df[['name','age']])\n",
    "# print(type(df[['name','age']]))\n",
    "\n",
    "# 获取一行\n",
    "# print(df[0:1])\n",
    "\n",
    "# # 去多行\n",
    "# print(df[1:3])\n",
    "\n",
    "# 取多行里面的某一列（不能进行多行多列的选择）\n",
    "# print(df[1:3][['name','age']])\n",
    "\n",
    "# df[1:3][['name','age']]"
   ]
  },
  {
   "cell_type": "code",
   "execution_count": 184,
   "metadata": {},
   "outputs": [
    {
     "name": "stdout",
     "output_type": "stream",
     "text": [
      "       name age national\n",
      "0     James  18       us\n",
      "2  Iversion  19       us\n",
      "Curry\n"
     ]
    }
   ],
   "source": [
    "# 获取某一行某一列的数据 (索引)index=['0','1','2']\n",
    "# print(df.loc['0','name'])\n",
    "\n",
    "# 一行所有列\n",
    "# print(df.loc['0',:])\n",
    "\n",
    "# print(df.loc['0',['name','age']])\n",
    "\n",
    "# print(df.loc[['0','2'],['name','national']])\n",
    "\n",
    "\n",
    "# df.iloc  (位置信息)\n",
    "\n",
    "# print(df.iloc[1])\n",
    "# print(df.iloc[0:2])\n",
    "\n",
    "# print(df.iloc[[0,2],:])\n",
    "\n",
    "# print(df.iloc[1,0])\n",
    "\n"
   ]
  },
  {
   "cell_type": "code",
   "execution_count": null,
   "metadata": {},
   "outputs": [],
   "source": []
  }
 ],
 "metadata": {
  "kernelspec": {
   "display_name": "py37",
   "language": "python",
   "name": "py37"
  },
  "language_info": {
   "codemirror_mode": {
    "name": "ipython",
    "version": 3
   },
   "file_extension": ".py",
   "mimetype": "text/x-python",
   "name": "python",
   "nbconvert_exporter": "python",
   "pygments_lexer": "ipython3",
   "version": "3.7.3"
  }
 },
 "nbformat": 4,
 "nbformat_minor": 2
}
