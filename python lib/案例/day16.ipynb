{
 "cells": [
  {
   "cell_type": "code",
   "execution_count": 7,
   "metadata": {},
   "outputs": [
    {
     "name": "stdout",
     "output_type": "stream",
     "text": [
      "DatetimeIndex(['2019-05-01 00:00:00', '2019-05-01 01:30:00',\n",
      "               '2019-05-01 03:00:00', '2019-05-01 04:30:00',\n",
      "               '2019-05-01 06:00:00', '2019-05-01 07:30:00',\n",
      "               '2019-05-01 09:00:00', '2019-05-01 10:30:00',\n",
      "               '2019-05-01 12:00:00', '2019-05-01 13:30:00'],\n",
      "              dtype='datetime64[ns]', freq='90T')\n"
     ]
    }
   ],
   "source": [
    "import pandas as pd\n",
    "import numpy as np\n",
    "\n",
    "# date = pd.date_range(start='20190501',end='20190530')\n",
    "# print(date)\n",
    "\n",
    "# freq：日期偏移量，取值为string或DateOffset，默认为'D'，  freq='1h30min'  freq='10D'\n",
    "# periods：固定时期，取值为整数或None\n",
    "date = pd.date_range(start='20190501',periods=10,freq='10D')\n",
    "print(date)"
   ]
  },
  {
   "cell_type": "code",
   "execution_count": 8,
   "metadata": {},
   "outputs": [
    {
     "name": "stdout",
     "output_type": "stream",
     "text": [
      "2019-01-01    8\n",
      "2019-01-02    6\n",
      "2019-01-03    7\n",
      "2019-01-04    4\n",
      "2019-01-05    3\n",
      "2019-01-06    4\n",
      "2019-01-07    7\n",
      "2019-01-08    4\n",
      "2019-01-09    2\n",
      "2019-01-10    3\n",
      "Freq: D, dtype: int64\n"
     ]
    }
   ],
   "source": [
    "# 可以将时间作为索引\n",
    "index = pd.date_range(start='20190101',periods=10)\n",
    "\n",
    "df = pd.Series(np.random.randint(0,10,size = 10),index=index)\n",
    "print(df)"
   ]
  },
  {
   "cell_type": "code",
   "execution_count": 12,
   "metadata": {},
   "outputs": [
    {
     "name": "stdout",
     "output_type": "stream",
     "text": [
      "2020-05-01   -0.561950\n",
      "2020-05-02   -1.551219\n",
      "2020-05-03    0.251783\n",
      "2020-05-04   -0.894532\n",
      "2020-05-05    0.385275\n",
      "2020-05-06   -0.741717\n",
      "Freq: D, dtype: float64\n"
     ]
    }
   ],
   "source": [
    "long_ts = pd.Series(np.random.randn(1000),index=pd.date_range('1/1/2019',periods=1000))\n",
    "# print(long_ts)\n",
    "# 根据年份获取\n",
    "# result = long_ts['2020']\n",
    "# print(result)\n",
    "\n",
    "# 年份和日期获取\n",
    "# result = long_ts['2020-05']\n",
    "# print(result)\n",
    "\n",
    "# 使用切片\n",
    "result = long_ts['2020-05-01':'2020-05-06']\n",
    "print(result)"
   ]
  },
  {
   "cell_type": "code",
   "execution_count": 14,
   "metadata": {},
   "outputs": [
    {
     "name": "stdout",
     "output_type": "stream",
     "text": [
      "                   0         1         2         3\n",
      "2019-04-01  0.832790  0.465039  0.207225  1.802984\n",
      "2019-04-02 -1.363855  0.247600  0.939629  1.217287\n",
      "2019-04-03 -0.272124  2.694322 -0.719372  0.607795\n",
      "2019-04-04 -0.878462 -1.766142  0.209483 -0.560872\n",
      "2019-04-05 -0.624510  0.578317  1.524643  0.505886\n",
      "2019-04-06  0.128874  0.836046  1.070527  1.740938\n",
      "2019-04-07 -0.581730  0.933613  0.996624 -0.360664\n",
      "2019-04-08 -0.041329  0.071025 -0.511914 -0.863363\n",
      "2019-04-09 -1.485299  1.871997 -1.053802 -3.498955\n",
      "2019-04-10 -0.023808 -2.574744  0.029809 -0.620074\n"
     ]
    }
   ],
   "source": [
    "# 通过between_time()返回位于指定时间段的数据集\n",
    "# index=pd.date_range(\"2018-03-17\",\"2018-03-30\",freq=\"2H\")\n",
    "# ts = pd.Series(np.random.randn(157),index=index)\n",
    "# print(ts.between_time(\"7:00\",\"17:00\"))\n",
    "\n",
    "# 这些操作也都适用于dataframe\n",
    "index=pd.date_range('1/1/2019',periods=100)\n",
    "df = pd.DataFrame(np.random.randn(100,4),index=index)\n",
    "print(df.loc['2019-04'])"
   ]
  },
  {
   "cell_type": "code",
   "execution_count": 24,
   "metadata": {},
   "outputs": [
    {
     "name": "stdout",
     "output_type": "stream",
     "text": [
      "    name  Year   Salary   Bonus\n",
      "0   BOSS  2016   999999  100000\n",
      "1  Lilei  2016    20000   20000\n",
      "2  Lilei  2016    25000   20000\n",
      "3    Han  2016     3000    5000\n",
      "4   BOSS  2017  9999999  200000\n",
      "5   BOSS  2017   999999  300000\n",
      "6    Han  2017     3500    3000\n",
      "7   BOSS  2017   999999  400000\n",
      "            Salary  Bonus\n",
      "name  Year               \n",
      "BOSS  2016       1      1\n",
      "      2017       3      3\n",
      "Han   2016       1      1\n",
      "      2017       1      1\n",
      "Lilei 2016       2      2\n"
     ]
    }
   ],
   "source": [
    "import pandas as pd\n",
    "import numpy as np\n",
    "df=pd.DataFrame({\n",
    "    'name':['BOSS','Lilei','Lilei','Han','BOSS','BOSS','Han','BOSS'],\n",
    "    'Year':[2016,2016,2016,2016,2017,2017,2017,2017],\n",
    "    'Salary':[999999,20000,25000,3000,9999999,999999,3500,999999],\n",
    "    'Bonus':[100000,20000,20000,5000,200000,300000,3000,400000]\n",
    "    })\n",
    "\n",
    "print(df)\n",
    "\n",
    "# 根据name这一列进行分组\n",
    "group_by_name=df.groupby('name')\n",
    "# print(type(group_by_name))\n",
    "\n",
    "# print(group_by_name.groups)\n",
    "# print(group_by_name.count())\n",
    "\n",
    "# for name,group in group_by_name:\n",
    "#     print(name) # 组的名字\n",
    "#     print(group)# 组的数据\n",
    "# print(group_by_name.get_group('BOSS'))\n",
    "\n",
    "# group_by_name = df['Year'].groupby(df['name'])\n",
    "# print(group_by_name.count())\n",
    "\n",
    "\n",
    "group_by_name=df.groupby(['name','Year'])\n",
    "\n",
    "print(group_by_name.count())"
   ]
  },
  {
   "cell_type": "code",
   "execution_count": 27,
   "metadata": {},
   "outputs": [
    {
     "name": "stdout",
     "output_type": "stream",
     "text": [
      "   Data1  Data2 key1 key2\n",
      "0      5     18    a    x\n",
      "1      7     16    a    y\n",
      "2      2     15    b    y\n",
      "3      0     19    b    x\n",
      "4      5     14    a    y\n",
      "key1\n",
      "a    17\n",
      "b     2\n",
      "Name: Data1, dtype: int64\n"
     ]
    }
   ],
   "source": [
    "df1=pd.DataFrame({'Data1':np.random.randint(0,10,5),\n",
    "                  'Data2':np.random.randint(10,20,5),\n",
    "                  'key1':list('aabba'),\n",
    "                  'key2':list('xyyxy')})\n",
    "print(df1)\n",
    "# 按key1分组，进行聚合计算\n",
    "# 注意：当分组后进行数值计算时，不是数值类的列（即麻烦列）会被清除\n",
    "# print(df1.groupby('key1').sum())\n",
    "\n",
    "# 只算data1\n",
    "# print(df1['Data1'].groupby(df1['key1']).sum())\n",
    "# print(df1.groupby('key1')['Data1'].sum())\n",
    "# print(df1.groupby('key1')['Data1'].mean())"
   ]
  },
  {
   "cell_type": "code",
   "execution_count": 29,
   "metadata": {},
   "outputs": [
    {
     "name": "stdout",
     "output_type": "stream",
     "text": [
      "     Data1                     Data2               \n",
      "       sum      mean       std   sum mean       std\n",
      "key1                                               \n",
      "a       17  5.666667  1.154701    48   16  2.000000\n",
      "b        2  1.000000  1.414214    34   17  2.828427\n"
     ]
    }
   ],
   "source": [
    "# 使用agg()函数做聚合运算\n",
    "# print(df1.groupby('key1').agg('sum'))\n",
    "\n",
    "# 可以同时做多个聚合运算\n",
    "print(df1.groupby('key1').agg(['sum','mean','std']))"
   ]
  },
  {
   "cell_type": "code",
   "execution_count": 30,
   "metadata": {},
   "outputs": [
    {
     "name": "stdout",
     "output_type": "stream",
     "text": [
      "      Data1  Data2\n",
      "key1              \n",
      "a         2      4\n",
      "b         2      4\n"
     ]
    }
   ],
   "source": [
    "# 可自定义函数，传入agg方法中 grouped.agg(func)\n",
    "def peak_range(df):\n",
    "    \"\"\"\n",
    "        返回数值范围\n",
    "    \"\"\"\n",
    "    return df.max() - df.min()\n",
    "\n",
    "print(df1.groupby('key1').agg(peak_range))"
   ]
  },
  {
   "cell_type": "code",
   "execution_count": 34,
   "metadata": {},
   "outputs": [
    {
     "name": "stdout",
     "output_type": "stream",
     "text": [
      "  sex smoker  age  weight\n",
      "0   F      Y   21     120\n",
      "1   F      N   30     100\n",
      "2   M      Y   17     132\n",
      "3   F      Y   37     140\n",
      "4   M      N   40      94\n",
      "5   M      Y   18      89\n",
      "6   F      Y   26     123\n"
     ]
    },
    {
     "data": {
      "text/html": [
       "<div>\n",
       "<style scoped>\n",
       "    .dataframe tbody tr th:only-of-type {\n",
       "        vertical-align: middle;\n",
       "    }\n",
       "\n",
       "    .dataframe tbody tr th {\n",
       "        vertical-align: top;\n",
       "    }\n",
       "\n",
       "    .dataframe thead th {\n",
       "        text-align: right;\n",
       "    }\n",
       "</style>\n",
       "<table border=\"1\" class=\"dataframe\">\n",
       "  <thead>\n",
       "    <tr style=\"text-align: right;\">\n",
       "      <th></th>\n",
       "      <th></th>\n",
       "      <th>sex</th>\n",
       "      <th>smoker</th>\n",
       "      <th>age</th>\n",
       "      <th>weight</th>\n",
       "    </tr>\n",
       "    <tr>\n",
       "      <th>smoker</th>\n",
       "      <th></th>\n",
       "      <th></th>\n",
       "      <th></th>\n",
       "      <th></th>\n",
       "      <th></th>\n",
       "    </tr>\n",
       "  </thead>\n",
       "  <tbody>\n",
       "    <tr>\n",
       "      <th rowspan=\"2\" valign=\"top\">N</th>\n",
       "      <th>4</th>\n",
       "      <td>M</td>\n",
       "      <td>N</td>\n",
       "      <td>40</td>\n",
       "      <td>94</td>\n",
       "    </tr>\n",
       "    <tr>\n",
       "      <th>1</th>\n",
       "      <td>F</td>\n",
       "      <td>N</td>\n",
       "      <td>30</td>\n",
       "      <td>100</td>\n",
       "    </tr>\n",
       "    <tr>\n",
       "      <th rowspan=\"2\" valign=\"top\">Y</th>\n",
       "      <th>2</th>\n",
       "      <td>M</td>\n",
       "      <td>Y</td>\n",
       "      <td>17</td>\n",
       "      <td>132</td>\n",
       "    </tr>\n",
       "    <tr>\n",
       "      <th>3</th>\n",
       "      <td>F</td>\n",
       "      <td>Y</td>\n",
       "      <td>37</td>\n",
       "      <td>140</td>\n",
       "    </tr>\n",
       "  </tbody>\n",
       "</table>\n",
       "</div>"
      ],
      "text/plain": [
       "         sex smoker  age  weight\n",
       "smoker                          \n",
       "N      4   M      N   40      94\n",
       "       1   F      N   30     100\n",
       "Y      2   M      Y   17     132\n",
       "       3   F      Y   37     140"
      ]
     },
     "execution_count": 34,
     "metadata": {},
     "output_type": "execute_result"
    }
   ],
   "source": [
    "df1=pd.DataFrame({'sex':list('FFMFMMF'),'smoker':list('YNYYNYY'),'age':[21,30,17,37,40,18,26],'weight':[120,100,132,140,94,89,123]})\n",
    "print(df1)\n",
    "def bin_age(age):\n",
    "    if age >=18:\n",
    "        return 1\n",
    "    else:\n",
    "        return 0\n",
    "\n",
    "# 抽烟的年龄大于等18的\n",
    "# print(df1['age'].apply(bin_age))\n",
    "\n",
    "# df1['age'] = df1['age'].apply(bin_age)\n",
    "# print(df1)\n",
    "\n",
    "# 取出抽烟和不抽烟的体重前二\n",
    "def top(smoker,col,n=5):\n",
    "    \n",
    "    return smoker.sort_values(by=col)[-n:]\n",
    "\n",
    "df1.groupby('smoker').apply(top,col='weight',n=2)"
   ]
  },
  {
   "cell_type": "code",
   "execution_count": 36,
   "metadata": {},
   "outputs": [
    {
     "name": "stdout",
     "output_type": "stream",
     "text": [
      "end\n"
     ]
    }
   ],
   "source": [
    "# 1. 使用to_excel创建Excel文件\n",
    "import pandas as pd\n",
    "\n",
    "df = pd.DataFrame({'id':[1,2,3],'name':['zs','ls','ww']})\n",
    "\n",
    "# 默认会有索引，将ID列设置成索引,会返回一个新的df,如果想要在原来的df上修改需要添加参数inplace=True\n",
    "df = df.set_index('id')\n",
    "\n",
    "df.to_excel('./output.xlsx')\n",
    "print('end')"
   ]
  },
  {
   "cell_type": "code",
   "execution_count": 43,
   "metadata": {},
   "outputs": [
    {
     "name": "stdout",
     "output_type": "stream",
     "text": [
      "Index(['ID', 'Type', 'Title', 'FirstName', 'MiddleName', 'LastName'], dtype='object')\n",
      "    0         1      2          3           4           5\n",
      "0  ID      Type  Title  FirstName  MiddleName    LastName\n",
      "1   1  Employee    NaN        Ken           J     Sánchez\n",
      "2   2  Employee    NaN      Terri         Lee       Duffy\n",
      "3   3  Employee    NaN    Roberto         NaN  Tamburello\n",
      "4   4  Employee    NaN        Rob         NaN     Walters\n"
     ]
    }
   ],
   "source": [
    "# 2. 使用pandas读取文件\n",
    "import pandas as pd\n",
    "# 此处需要安装依赖库xlrd\n",
    "people = pd.read_excel('./data/People.xlsx')\n",
    "\n",
    "# print('获取文件中的行和列：',people.shape)\n",
    "\n",
    "# print('获取文件中的列名：',people.columns)\n",
    "# 默认取前五行\n",
    "# print(people.head())\n",
    "# print('获取文件中的后几行数据信息：',people.tail())\n",
    "\n",
    "# print(people.columns)\n",
    "# 1. 读取的时候，默认会将第一行(数是以1开始)作为列名，我们可以修改\n",
    "# people = pd.read_excel('./data/People1.xlsx',header = 1)\n",
    "# print(people.columns)\n",
    "\n",
    "# 第一种： 设置header为None，会使用默认的1234\n",
    "people = pd.read_excel('./data/People.xlsx',header = None)\n",
    "# print(people.columns)\n",
    "print(people.head())"
   ]
  },
  {
   "cell_type": "code",
   "execution_count": 44,
   "metadata": {},
   "outputs": [
    {
     "name": "stdout",
     "output_type": "stream",
     "text": [
      "   ID  age\n",
      "0   0   18\n",
      "1   1   19\n"
     ]
    }
   ],
   "source": [
    "# 指定读哪个表\n",
    "sheet = pd.read_excel('./data/sheet.xlsx',sheet_name='sheet2')\n",
    "print(sheet.head())"
   ]
  },
  {
   "cell_type": "code",
   "execution_count": 45,
   "metadata": {},
   "outputs": [
    {
     "name": "stdout",
     "output_type": "stream",
     "text": [
      "   ID      Name  InStore\n",
      "0 NaN  Book_001      NaN\n",
      "1 NaN  Book_002      NaN\n",
      "2 NaN  Book_003      NaN\n",
      "3 NaN  Book_004      NaN\n",
      "4 NaN  Book_005      NaN\n"
     ]
    }
   ],
   "source": [
    "# 3. 如果数据在表格中没有顶格写时\n",
    "# skiprows : 跳过几行\n",
    "# usecols: 使用那几列（C,指的就是Excel上的ABCD....）\n",
    "book = pd.read_excel('./data/Books.xlsx',skiprows=3,usecols =\"C:F\")\n",
    "print(book.head())"
   ]
  },
  {
   "cell_type": "code",
   "execution_count": 46,
   "metadata": {},
   "outputs": [
    {
     "name": "stdout",
     "output_type": "stream",
     "text": [
      "    id                                   info            url\n",
      "0    1         现在AP卡莎强度如何？卡莎一直出的AP，因为比较平滑，攻速鞋  /p/6145717896\n",
      "1    2         请问这个是bug吗，本场没有滑板鞋，但是我们上路的装备里就有  /p/6143233514\n",
      "2    3         我想知道，这位大兄弟玩ad带个行窃预兆，第二件出卢安娜的飓风  /p/6143599050\n",
      "3    4                 武器要怎么打哈蟆，上单没有可以gank的吗？  /p/6142379064\n",
      "4    5         最近打排位经常有人问我，你一个英雄玩了几千场是什么感觉啊。一  /p/6141038110\n",
      "5    6                               上单英雄简单介绍  /p/6143732105\n",
      "6    7                                辣鸡拳头又抄袭  /p/6145365511\n",
      "7    8                         金属重做归来 大招孤儿乐园！  /p/6145147020\n",
      "8    9                         请问发条怎么打皎月，太可怕了  /p/6144393887\n",
      "9   10                              莫德凯撒迎来重做！  /p/6145715843\n",
      "10  11                       全英雄七级成就养成中，持续更新~  /p/6019998154\n",
      "11  12            LOL看比赛也要收费了！一个赛季100块，你看的起么？  /p/6144838042\n",
      "12  13          这个英雄场次是我见过最多的。今天排位遇到的。我服了。你们呢  /p/6143616940\n",
      "13  14                          突然发现铁男即将到来的更新  /p/6145217015\n",
      "14  15                     说真的沙漠皇帝是我玩过最自闭的英雄了  /p/6145704874\n",
      "15  16         想问一下玛尔扎哈这个英雄要咋玩，最近玩了几局感觉挺适合我这个  /p/6144275543\n",
      "16  17         当你用尽全力去C的时候。绝望，无助，这种感觉真的难受。为什么  /p/6142913219\n",
      "17  18         遇到个宝石+剑圣把我们打爆了。后期1v5，看到他战绩好几页m  /p/6144956885\n",
      "18  19               现在脚本那么强了吗，都不会被封号。连续18个小时  /p/6142314538\n",
      "19  20                        兄弟们这个炸弹人是什么东西？？  /p/6142149555\n",
      "20  21                         有没有那种能拯救队友的英雄？  /p/6143541438\n",
      "21  22               我发现这游戏最难不是绝地翻盘，而是等到天使16级  /p/6141888010\n",
      "22  23                           真的遇到这个情况怎么整？  /p/6141430511\n",
      "23  24                          铁男重做后的原画怎么评价？  /p/6145060168\n",
      "24  25                           艾欧尼亚从零单双排记录贴  /p/6140169323\n",
      "25  26             什么原因让你加入了英雄联盟，他会是你最后一款游戏吗？  /p/6145458597\n",
      "26  27         为什么艾克怎么冷门，我一千多把艾克中路对拼怕:妖姬，卡萨丁其  /p/6141472725\n",
      "27  28                         分享一个打游戏超暴躁的boy  /p/6145467706\n",
      "28  29                              我还可以拥有爱情吗  /p/6119531166\n",
      "29  30  各位带哥萌 小弟这波操作什么水平 一时紧张 导致头脑发热 紧急情况打出来的  /p/6093011289\n",
      "30  31         我跟大家说个事，如果faker来国服青铜单排，他能上的了白银  /p/6142643894\n",
      "31  32         为什么这版本轮子妈胜率突然登顶了，以前胜率在AD位可都是偏中  /p/6144072734\n",
      "32  33                              可是我真的很尽力了  /p/6142948763\n",
      "33  34               大家游戏中怎么喷人啊？喷不过别人吧就越想越气……  /p/6145713756\n",
      "34  35                            uzi到底是什么水平？  /p/6138290269\n",
      "35  36                      准备去相亲，穿裙子还是牛仔裤比较好  /p/6142846862\n",
      "36  37         对面选了德莱文加锤石的时候，不要5楼了还选猫咪好吗玩个寒冰被  /p/6142952366\n",
      "37  38                                   葲lol  /p/6145678619\n",
      "38  39          各位吧友帮忙估个价，一直没怎么玩了，准备出了，英雄139个  /p/6145702234\n",
      "39  40                     追一个女孩子，还没表白就被拒绝了……  /p/6145565341\n",
      "40  41         大佬们 求教一下 瑞兹6级到底学不学R?还有鞋子出哪一只才好  /p/6142992018\n",
      "41  42         兄弟们，借个有玉剑传说男刀的，或者龙刀炫彩的号，什么分段什么  /p/6143527932\n",
      "42  43         带哥们 ，我同学跟我超火男连招，他说是w起手，我说eq晕w，  /p/6138796388\n",
      "43  44              游戏认识的，今天叫我来她家玩，应该是对我有意思吧？  /p/6144440452\n",
      "44  45                         这边看边学的叼任务怎么做完？  /p/6128951773\n",
      "45  46                   大家觉得什么英雄打辅助是真的会把队友打崩  /p/6139307693\n",
      "46  47                                 他还真的穿了  /p/6129628053\n"
     ]
    }
   ],
   "source": [
    "import pandas as pd\n",
    "import pymysql\n",
    "\n",
    "conn =pymysql.connect(host='localhost',user='root',passwd='123',db='tieba',port=3306,charset='utf8mb4')\n",
    "\n",
    "query = 'SELECT id,info,url FROM tieba_info'\n",
    "\n",
    "df = pd.read_sql_query(query,conn)\n",
    "print(df)"
   ]
  },
  {
   "cell_type": "code",
   "execution_count": null,
   "metadata": {},
   "outputs": [],
   "source": []
  }
 ],
 "metadata": {
  "kernelspec": {
   "display_name": "py37",
   "language": "python",
   "name": "py37"
  },
  "language_info": {
   "codemirror_mode": {
    "name": "ipython",
    "version": 3
   },
   "file_extension": ".py",
   "mimetype": "text/x-python",
   "name": "python",
   "nbconvert_exporter": "python",
   "pygments_lexer": "ipython3",
   "version": "3.7.3"
  }
 },
 "nbformat": 4,
 "nbformat_minor": 2
}
