{
 "cells": [
  {
   "cell_type": "code",
   "execution_count": 143,
   "metadata": {
    "scrolled": true
   },
   "outputs": [
    {
     "name": "stdout",
     "output_type": "stream",
     "text": [
      "    a  b  c\n",
      "bj  0  1  2\n",
      "sh  3  4  5\n",
      "gz  6  7  8\n",
      "         aa  b  c\n",
      "beijing   0  1  2\n",
      "sh        3  4  5\n",
      "gz        6  7  8\n"
     ]
    }
   ],
   "source": [
    "import numpy as np\n",
    "import pandas as pd\n",
    "\n",
    "df1 = pd.DataFrame(np.arange(9).reshape(3, 3), index = ['bj', 'sh', 'gz'], columns=['a', 'b', 'c'])\n",
    "print(df1)\n",
    "# 修改 df1 的 index\n",
    "# print(df1.index) # 可以打印出print的值，同时也可以为其赋值\n",
    "\n",
    "# df1.index = ['beijing', 'shanghai', 'guangzhou']\n",
    "# print(df1)\n",
    "\n",
    "# 自定义map函数（x是原有的行列值）\n",
    "# def test_map(x):\n",
    "    \n",
    "#     return x+'_ABC'\n",
    "\n",
    "# print(df1.rename(index=test_map,columns=test_map))\n",
    "\n",
    "# df = df1.rename(index={'bj':'beijing'},columns={'a':'aa'})\n",
    "# print(df)\n",
    "\n",
    "\n",
    "\n"
   ]
  },
  {
   "cell_type": "code",
   "execution_count": 146,
   "metadata": {},
   "outputs": [
    {
     "name": "stdout",
     "output_type": "stream",
     "text": [
      "   X  Y  S  Z\n",
      "0  0  0  a  1\n",
      "1  1  1  b  1\n",
      "2  2  2  c  2\n",
      "3  3  3  d  2\n",
      "4  4  4  e  2\n",
      "   X  Y  S  Z\n",
      "S            \n",
      "a  0  0  a  1\n",
      "b  1  1  b  1\n",
      "c  2  2  c  2\n",
      "d  3  3  d  2\n",
      "e  4  4  e  2\n"
     ]
    }
   ],
   "source": [
    "# df1=pd.DataFrame({'X':range(5),'Y':range(5),'S':list(\"abcde\"),'Z':[1,1,2,2,2]})\n",
    "# print(df1)\n",
    "\n",
    "# result = df1.set_index('S',drop=False)\n",
    "# print(result)\n",
    "\n"
   ]
  },
  {
   "cell_type": "code",
   "execution_count": 148,
   "metadata": {},
   "outputs": [
    {
     "name": "stdout",
     "output_type": "stream",
     "text": [
      "     name gender  age  score\n",
      "0    Snow      M   22     80\n",
      "1  Tyrion      M   32     98\n",
      "2   Sansa      F   18     67\n",
      "3    Arya      F   14     90\n"
     ]
    }
   ],
   "source": [
    "# 增加数据\n",
    "df1 = pd.DataFrame([['Snow','M',22],['Tyrion','M',32],['Sansa','F',18],['Arya','F',14]],\n",
    "                   columns=['name','gender','age'])\n",
    "\n",
    "# 在数据框最后加上score一列\n",
    "# df1['score'] = [80,98,67,90]  # 增加列的元素个数要跟原数据列的个数一样\n",
    "# print(df1)"
   ]
  },
  {
   "cell_type": "code",
   "execution_count": 150,
   "metadata": {},
   "outputs": [
    {
     "name": "stdout",
     "output_type": "stream",
     "text": [
      "     name gender  city  city  age  score\n",
      "0    Snow      M   NaN   NaN   22     80\n",
      "1  Tyrion      M   NaN   NaN   32     98\n",
      "2   Sansa      F   NaN   NaN   18     67\n",
      "3    Arya      F   NaN   NaN   14     90\n",
      "     name gender city city  age  score\n",
      "0    Snow      M   北京   北京   22     80\n",
      "1  Tyrion      M   山西   山西   32     98\n",
      "2   Sansa      F   湖北   湖北   18     67\n",
      "3    Arya      F   澳门   澳门   14     90\n"
     ]
    }
   ],
   "source": [
    "col_name=df1.columns.tolist()                   # 将数据框的列名全部提取出来存放在列表里\n",
    "col_name.insert(2,'city')                      # 在列索引为2的位置插入一列,列名为:city，刚插入时不会有值，整列都是NaN\n",
    "\n",
    "df1=df1.reindex(columns=col_name)              # DataFrame.reindex() 对原行/列索引重新构建索引值\n",
    "print(df1)\n",
    "df1['city']=['北京','山西','湖北','澳门']   # 给city列赋值\n",
    "print(df1)"
   ]
  },
  {
   "cell_type": "code",
   "execution_count": 154,
   "metadata": {},
   "outputs": [
    {
     "name": "stdout",
     "output_type": "stream",
     "text": [
      "     name gender  age\n",
      "0    Snow      M   22\n",
      "1  Tyrion      M   32\n",
      "2   Sansa      F   18\n",
      "3    Arya      F   14\n",
      "   name gender  age\n",
      "0  lisa      F   19\n",
      "     name gender  age\n",
      "0    Snow      M   22\n",
      "1  Tyrion      M   32\n",
      "2   Sansa      F   18\n",
      "3    Arya      F   14\n",
      "4    lisa      F   19\n"
     ]
    }
   ],
   "source": [
    "# 增加数据\n",
    "df1 = pd.DataFrame([['Snow','M',22],['Tyrion','M',32],['Sansa','F',18],['Arya','F',14]],\n",
    "                   columns=['name','gender','age'])\n",
    "\n",
    "print(df1)\n",
    "# 先创建一个DataFrame，用来增加进数据框的最后一行\n",
    "new=pd.DataFrame({'name':'lisa',\n",
    "                  'gender':'F',\n",
    "                  'age':19\n",
    "                  },index=[0])\n",
    "print(new)\n",
    "# print(\"-------在原数据框df1最后一行新增一行，用append方法------------\")\n",
    "df1=df1.append(new,ignore_index=True)   # ignore_index=False,表示不按原来的索引，从0开始自动递增\n",
    "print(df1)"
   ]
  },
  {
   "cell_type": "code",
   "execution_count": 158,
   "metadata": {},
   "outputs": [
    {
     "name": "stdout",
     "output_type": "stream",
     "text": [
      "   four  five\n",
      "0     0     1\n",
      "1     2     3\n",
      "2     4     5\n",
      "   one  two  three\n",
      "0    0    1      2\n",
      "1    3    4      5\n",
      "   four  five  one  two  three\n",
      "0   0.0   1.0  NaN  NaN    NaN\n",
      "1   2.0   3.0  NaN  NaN    NaN\n",
      "2   4.0   5.0  NaN  NaN    NaN\n",
      "3   NaN   NaN  0.0  1.0    2.0\n",
      "4   NaN   NaN  3.0  4.0    5.0\n"
     ]
    }
   ],
   "source": [
    "\n",
    "df1 = pd.DataFrame(np.arange(6).reshape(3,2),columns=['four','five'])\n",
    "df2 = pd.DataFrame(np.arange(6).reshape(2,3),columns=['one','two','three'])\n",
    "print(df1)\n",
    "print(df2)\n",
    "\n",
    "# # 按行合并\n",
    "# result = pd.concat([df1,df2],axis=1)\n",
    "# print(result)\n",
    "\n",
    "result = pd.concat([df1,df2],axis=0,ignore_index=True,sort=False)\n",
    "print(result)"
   ]
  },
  {
   "cell_type": "code",
   "execution_count": 168,
   "metadata": {},
   "outputs": [
    {
     "name": "stdout",
     "output_type": "stream",
     "text": [
      "0    4.0\n",
      "1    NaN\n",
      "2    8.0\n",
      "3    NaN\n",
      "4    5.0\n",
      "dtype: float64\n",
      "0    4.0\n",
      "2    8.0\n",
      "4    5.0\n",
      "dtype: float64\n",
      "0    False\n",
      "1     True\n",
      "2    False\n",
      "3     True\n",
      "4    False\n",
      "dtype: bool\n",
      "0    4.0\n",
      "2    8.0\n",
      "4    5.0\n",
      "dtype: float64\n"
     ]
    }
   ],
   "source": [
    "\n",
    "se=pd.Series([4,np.nan,8,np.nan,5])\n",
    "print(se)\n",
    "print(se.dropna())\n",
    "# print(se.notnull())\n",
    "print(se.isnull())\n",
    "\n",
    "# # 通过布尔序列也能滤除：\n",
    "# print(se1[se1.notnull()])\n",
    "\n",
    "# print(se[se.notnull()])"
   ]
  },
  {
   "cell_type": "code",
   "execution_count": 184,
   "metadata": {},
   "outputs": [
    {
     "name": "stdout",
     "output_type": "stream",
     "text": [
      "     0    1    2\n",
      "0  1.0  2.0  3.0\n",
      "1  NaN  NaN  2.0\n",
      "2  NaN  NaN  NaN\n",
      "3  8.0  8.0  NaN\n",
      "None\n",
      "     0    1    2\n",
      "0  1.0  2.0  3.0\n",
      "1  NaN  5.0  2.0\n",
      "2  NaN  5.0  NaN\n",
      "3  8.0  8.0  NaN\n"
     ]
    }
   ],
   "source": [
    "# 2.2 处理DataFrame对象\n",
    "df1=pd.DataFrame([[1,2,3],[np.nan,np.nan,2],[np.nan,np.nan,np.nan],[8,8,np.nan]])\n",
    "print(df1)\n",
    "\n",
    "# 默认滤除所有包含NaN：\n",
    "# print(df1.dropna())\n",
    "\n",
    "# 传入how=‘all’滤除全为NaN的行：\n",
    "# print(df1.dropna(how='all')) # 默认情况下是how='any'，只要有nan就删除\n",
    "\n",
    "# 传入axis=1滤除列：\n",
    "# print(df1.dropna(axis=1,how=\"all\"))\n",
    "\n",
    "#传入thresh=n保留至少有n个非NaN数据的行：\n",
    "# print(df1.dropna(thresh=1))\n",
    "\n",
    "\n",
    "# print(df1)\n",
    "\n",
    "# 用常数填充fillna\n",
    "# print(df1.fillna(0))\n",
    "# print(df1)\n",
    "\n",
    "#传入inplace=True直接修改原对象：\n",
    "# df1.fillna(0,inplace=True)\n",
    "# print(df1)\n",
    "\n",
    "# 通过字典填充不同的常数\n",
    "# print(df1.fillna({0:10,1:20,2:30})) \n",
    "\n",
    "# 填充平均值\n",
    "# print(df1.fillna(df1.mean()))\n",
    "# 如果只填充一列\n",
    "# print(df1.iloc[:,1].fillna(5,inplace = True))\n",
    "# print(df1)"
   ]
  },
  {
   "cell_type": "code",
   "execution_count": 189,
   "metadata": {},
   "outputs": [
    {
     "name": "stdout",
     "output_type": "stream",
     "text": [
      "   0  1  2    3    4\n",
      "0  8  1  6  0.0  2.0\n",
      "1  3  8  2  NaN  5.0\n",
      "2  2  5  2  NaN  NaN\n",
      "3  5  5  4  NaN  NaN\n",
      "4  2  8  8  8.0  3.0\n",
      "     0    1    2    3    4\n",
      "0  8.0  1.0  6.0  0.0  2.0\n",
      "1  3.0  8.0  2.0  2.0  5.0\n",
      "2  2.0  5.0  2.0  2.0  NaN\n",
      "3  5.0  5.0  4.0  4.0  NaN\n",
      "4  2.0  8.0  8.0  8.0  3.0\n"
     ]
    }
   ],
   "source": [
    "# 传入method=” “改变插值方式：\n",
    "df2=pd.DataFrame(np.random.randint(0,10,(5,5)))\n",
    "df2.iloc[1:4,3]=np.nan\n",
    "df2.iloc[2:4,4]=np.nan\n",
    "print(df2)\n",
    "#用前面的值来填充ffill   用后面的值来填充bfill\n",
    "# print(df2.fillna(method='bfill'))\n",
    "\n",
    "# 传入limit=” “限制填充行数：\n",
    "# print(df2.fillna(method='bfill',limit=1))\n",
    "\n",
    "# 传入axis=” “修改填充方向：\n",
    "print(df2.fillna(method=\"ffill\",limit=1,axis=1))"
   ]
  },
  {
   "cell_type": "code",
   "execution_count": 194,
   "metadata": {},
   "outputs": [
    {
     "name": "stdout",
     "output_type": "stream",
     "text": [
      "   A  B\n",
      "0  1  a\n",
      "1  1  a\n",
      "2  1  b\n",
      "3  2  b\n",
      "4  2  b\n",
      "5  3  c\n",
      "6  1  a\n",
      "   A  B\n",
      "0  1  a\n",
      "3  2  b\n",
      "5  3  c\n"
     ]
    }
   ],
   "source": [
    "df1=pd.DataFrame({'A':[1,1,1,2,2,3,1],'B':list(\"aabbbca\")})\n",
    "print(df1)\n",
    "\n",
    "# 判断每一行是否重复(结果是bool值，TRUE代表重复的)\n",
    "# print(df1.duplicated())\n",
    "\n",
    "# 去除全部的重复行\n",
    "# print(df1.drop_duplicates())\n",
    "\n",
    "# # 指定列去除重复行\n",
    "print(df1.drop_duplicates(['A']))"
   ]
  },
  {
   "cell_type": "code",
   "execution_count": 199,
   "metadata": {},
   "outputs": [
    {
     "name": "stdout",
     "output_type": "stream",
     "text": [
      "   Red  Green\n",
      "a    1      5\n",
      "b    3      0\n",
      "c    5      3\n",
      "   Blue  Yellow\n",
      "c     1       6\n",
      "d     9       6\n",
      "e     8       7\n"
     ]
    },
    {
     "data": {
      "text/html": [
       "<div>\n",
       "<style scoped>\n",
       "    .dataframe tbody tr th:only-of-type {\n",
       "        vertical-align: middle;\n",
       "    }\n",
       "\n",
       "    .dataframe tbody tr th {\n",
       "        vertical-align: top;\n",
       "    }\n",
       "\n",
       "    .dataframe thead th {\n",
       "        text-align: right;\n",
       "    }\n",
       "</style>\n",
       "<table border=\"1\" class=\"dataframe\">\n",
       "  <thead>\n",
       "    <tr style=\"text-align: right;\">\n",
       "      <th></th>\n",
       "      <th>Red</th>\n",
       "      <th>Green</th>\n",
       "      <th>Blue</th>\n",
       "      <th>Yellow</th>\n",
       "    </tr>\n",
       "  </thead>\n",
       "  <tbody>\n",
       "    <tr>\n",
       "      <th>a</th>\n",
       "      <td>1.0</td>\n",
       "      <td>5.0</td>\n",
       "      <td>NaN</td>\n",
       "      <td>NaN</td>\n",
       "    </tr>\n",
       "    <tr>\n",
       "      <th>b</th>\n",
       "      <td>3.0</td>\n",
       "      <td>0.0</td>\n",
       "      <td>NaN</td>\n",
       "      <td>NaN</td>\n",
       "    </tr>\n",
       "    <tr>\n",
       "      <th>c</th>\n",
       "      <td>5.0</td>\n",
       "      <td>3.0</td>\n",
       "      <td>1.0</td>\n",
       "      <td>6.0</td>\n",
       "    </tr>\n",
       "    <tr>\n",
       "      <th>d</th>\n",
       "      <td>NaN</td>\n",
       "      <td>NaN</td>\n",
       "      <td>9.0</td>\n",
       "      <td>6.0</td>\n",
       "    </tr>\n",
       "    <tr>\n",
       "      <th>e</th>\n",
       "      <td>NaN</td>\n",
       "      <td>NaN</td>\n",
       "      <td>8.0</td>\n",
       "      <td>7.0</td>\n",
       "    </tr>\n",
       "  </tbody>\n",
       "</table>\n",
       "</div>"
      ],
      "text/plain": [
       "   Red  Green  Blue  Yellow\n",
       "a  1.0    5.0   NaN     NaN\n",
       "b  3.0    0.0   NaN     NaN\n",
       "c  5.0    3.0   1.0     6.0\n",
       "d  NaN    NaN   9.0     6.0\n",
       "e  NaN    NaN   8.0     7.0"
      ]
     },
     "execution_count": 199,
     "metadata": {},
     "output_type": "execute_result"
    }
   ],
   "source": [
    "import pandas as pd\n",
    "df3=pd.DataFrame({'Red':[1,3,5],'Green':[5,0,3]},index=list('abc'))\n",
    "df4=pd.DataFrame({'Blue':[1,9,8],'Yellow':[6,6,7]},index=list('cde'))\n",
    "print(df3)\n",
    "print(df4)\n",
    "\n",
    "# df3.join(df4,how='left')\n",
    "# df3.join(df4,how='right')\n",
    "df3.join(df4,how='outer')"
   ]
  },
  {
   "cell_type": "code",
   "execution_count": 202,
   "metadata": {},
   "outputs": [
    {
     "name": "stdout",
     "output_type": "stream",
     "text": [
      "学院老师 名字 性别   职称\n",
      "编号             \n",
      "1001  A  男  副教授\n",
      "1002  B  女   讲师\n",
      "1003  C  男   助教\n",
      "1004  D  男   教授\n",
      "1005  E  女   助教\n",
      "课程   名字     课程   职称\n",
      "编号                 \n",
      "1001  A    C++  副教授\n",
      "1002  B  计算机导论   讲师\n",
      "1004  D     汇编   教授\n",
      "1001  A   数据结构  副教授\n",
      "3001  X  马克思原理   讲师\n",
      "  名字 性别   职称     课程\n",
      "0  A  男  副教授    C++\n",
      "1  A  男  副教授   数据结构\n",
      "2  B  女   讲师  计算机导论\n",
      "3  D  男   教授     汇编\n"
     ]
    }
   ],
   "source": [
    "df1=pd.DataFrame({'名字':list('ABCDE'),'性别':['男','女','男','男','女'],'职称':['副教授','讲师','助教','教授','助教']},index=range(1001,1006))\n",
    "df1.columns.name='学院老师'\n",
    "df1.index.name='编号'\n",
    "print(df1)\n",
    "\n",
    "df2=pd.DataFrame({'名字':list('ABDAX'),'课程':['C++','计算机导论','汇编','数据结构','马克思原理'],'职称':['副教授','讲师','教授','副教授','讲师']},index=[1001,1002,1004,1001,3001])\n",
    "df2.columns.name='课程'\n",
    "df2.index.name='编号'\n",
    "print(df2)\n",
    "\n",
    "# 默认下是根据左右对象中出现同名的列作为连接的键，且连接方式是how=’inner’\n",
    "print(pd.merge(df1,df2))"
   ]
  },
  {
   "cell_type": "code",
   "execution_count": 204,
   "metadata": {},
   "outputs": [
    {
     "name": "stdout",
     "output_type": "stream",
     "text": [
      "a     63\n",
      "b     77\n",
      "c    113\n",
      "d    102\n",
      "e     21\n",
      "f    109\n",
      "dtype: int64\n",
      "a  期中     11\n",
      "   期末     30\n",
      "b  期中     46\n",
      "   期末    124\n",
      "c  期中    124\n",
      "   期末     35\n",
      "dtype: int64\n"
     ]
    }
   ],
   "source": [
    "import numpy as np\n",
    "import pandas as pd\n",
    "from pandas import Series,DataFrame\n",
    "# Series也可以创建多层索引\n",
    "# s = Series(np.random.randint(0,150,size=6),index=list('abcdef'))\n",
    "# print(s)\n",
    "# s = Series(np.random.randint(0,150,size=6),\n",
    "#            index=[['a','a','b','b','c','c'],['期中','期末','期中','期末','期中','期末']])\n",
    "# print(s)\n",
    "\n"
   ]
  },
  {
   "cell_type": "code",
   "execution_count": 208,
   "metadata": {},
   "outputs": [
    {
     "name": "stdout",
     "output_type": "stream",
     "text": [
      "             0    1    2    3\n",
      "python 期中  125   97   46   94\n",
      "       期末   25   71   48  115\n",
      "math   期中  106   95   92  115\n",
      "       期末   35  107   12   73\n",
      "En     期中   93   72   87   40\n",
      "       期末   87  145  107  115\n"
     ]
    }
   ],
   "source": [
    "# DataFrame创建多层索引\n",
    "# df1 = DataFrame(np.random.randint(0,150,size=(6,4)),\n",
    "#                columns = ['zs','ls','ww','zl'],\n",
    "#                index = [['python','python','math','math','En','En'],['期中','期末','期中','期末','期中','期末']])\n",
    "# print(df1)\n",
    "\n",
    "# 2. 特定结构\n",
    "# class1=['python','python','math','math','En','En']\n",
    "# class2=['期中','期末','期中','期末','期中','期末']\n",
    "# 创建索引\n",
    "# m_index2=pd.MultiIndex.from_arrays([class1,class2])\n",
    "\n",
    "# df2=DataFrame(np.random.randint(0,150,(6,4)),index=m_index2)\n",
    "# print(df2)\n",
    "\n",
    "# class1=['期中','期中','期中','期末','期末','期末']\n",
    "# class2=['python','math','En','python','math','En']\n",
    "# m_index2=pd.MultiIndex.from_arrays([class1,class2])\n",
    "# df2=DataFrame(np.random.randint(0,150,(6,4)),index=m_index2)\n",
    "# print(df2)\n",
    "\n",
    "\n",
    "class1=['python','math','En']\n",
    "\n",
    "class2=['期中','期末']\n",
    "\n",
    "m_index2=pd.MultiIndex.from_product([class1,class2])\n",
    "df2=DataFrame(np.random.randint(0,150,(6,4)),index=m_index2)\n",
    "print(df2)\n",
    "\n"
   ]
  },
  {
   "cell_type": "code",
   "execution_count": 212,
   "metadata": {
    "scrolled": true
   },
   "outputs": [
    {
     "name": "stdout",
     "output_type": "stream",
     "text": [
      "a  期中     32\n",
      "   期末    107\n",
      "b  期中     58\n",
      "   期末    125\n",
      "c  期中     37\n",
      "   期末    126\n",
      "dtype: int64\n",
      "107\n",
      "a  期末    107\n",
      "b  期中     58\n",
      "   期末    125\n",
      "dtype: int64\n"
     ]
    }
   ],
   "source": [
    "# series\n",
    "s = Series(np.random.randint(0,150,size=6),\n",
    "           index=[['a','a','b','b','c','c'],['期中','期末','期中','期末','期中','期末']])\n",
    "print(s)\n",
    "# 取一个第一级索引\n",
    "# print(s['a'])\n",
    "\n",
    "# 取多个第一级索引\n",
    "# print(s[['a','b']])\n",
    "\n",
    "# 根据索引获取值\n",
    "# print(s['a','期末'])\n",
    "\n",
    "# loc方法取值\n",
    "# print(s.loc['a'])\n",
    "# print(s.loc[['a','b']])\n",
    "# print(s.loc['a','期末'])\n",
    "\n",
    "# iloc方法取值(iloc计算的事最内层索引)\n",
    "# print(s.iloc[1])\n",
    "# print(s.iloc[1:4])"
   ]
  },
  {
   "cell_type": "code",
   "execution_count": 215,
   "metadata": {},
   "outputs": [
    {
     "name": "stdout",
     "output_type": "stream",
     "text": [
      "             0    1    2    3\n",
      "python 期中   50   66    1   57\n",
      "       期末    3  146   91    5\n",
      "math   期中  129   68   12  113\n",
      "       期末   63   77   91  113\n",
      "En     期中  143  134    5   45\n",
      "       期末   97  133  108  125\n",
      "     0    1   2   3\n",
      "期中  50   66   1  57\n",
      "期末   3  146  91   5\n"
     ]
    }
   ],
   "source": [
    "class1=['python','math','En']\n",
    "class2=['期中','期末']\n",
    "m_index2=pd.MultiIndex.from_product([class1,class2])\n",
    "df2=DataFrame(np.random.randint(0,150,(6,4)),index=m_index2)\n",
    "print(df2)\n",
    "\n",
    "# 获取列\n",
    "# print(df2[0])\n",
    "\n",
    "# 一级索引\n",
    "# print(df2.loc['python'])\n",
    "\n",
    "# 多个一级索引\n",
    "# print(df2.loc[['python','math']])\n",
    "\n",
    "# 取一行\n",
    "# print(df2.loc['python','期末'])\n",
    "\n",
    "# 取一值\n",
    "# print(df2.loc['python','期末'][0])\n",
    "\n",
    "# iloc是只取最内层的索引的\n",
    "print(df2.iloc[0])   "
   ]
  },
  {
   "cell_type": "code",
   "execution_count": null,
   "metadata": {},
   "outputs": [],
   "source": []
  }
 ],
 "metadata": {
  "kernelspec": {
   "display_name": "py37",
   "language": "python",
   "name": "py37"
  },
  "language_info": {
   "codemirror_mode": {
    "name": "ipython",
    "version": 3
   },
   "file_extension": ".py",
   "mimetype": "text/x-python",
   "name": "python",
   "nbconvert_exporter": "python",
   "pygments_lexer": "ipython3",
   "version": "3.7.3"
  }
 },
 "nbformat": 4,
 "nbformat_minor": 2
}
